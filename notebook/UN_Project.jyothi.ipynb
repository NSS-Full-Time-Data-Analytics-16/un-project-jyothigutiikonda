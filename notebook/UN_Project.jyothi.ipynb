{
 "cells": [
  {
   "cell_type": "code",
   "execution_count": 110,
   "id": "c632c2ff-d5dd-4f89-bdef-2b74da70a9d0",
   "metadata": {},
   "outputs": [],
   "source": [
    "import pandas as pd\n",
    "import numpy as np\n",
    "import matplotlib.pyplot as plt\n",
    "import seaborn as sns"
   ]
  },
  {
   "cell_type": "markdown",
   "id": "5b04bd2a-b786-4781-84ae-16d085a2b608",
   "metadata": {},
   "source": [
    "### Using the pandas `read_csv()` method, read the GDP dataset into your notebook as a DataFrame called `gdp_df`. Take a look at the first few and last few rows to familiarize yourself with what is contained in this dataset."
   ]
  },
  {
   "cell_type": "code",
   "execution_count": 2,
   "id": "79cf8018-c114-453e-8b32-f8c7669bc996",
   "metadata": {},
   "outputs": [],
   "source": [
    "gdp_df = pd.read_csv(\"../data/gdp_percapita.csv\")"
   ]
  },
  {
   "cell_type": "code",
   "execution_count": 111,
   "id": "2dd317b7-f8c2-48ae-892a-87ab6976a4af",
   "metadata": {},
   "outputs": [
    {
     "data": {
      "text/html": [
       "<div>\n",
       "<style scoped>\n",
       "    .dataframe tbody tr th:only-of-type {\n",
       "        vertical-align: middle;\n",
       "    }\n",
       "\n",
       "    .dataframe tbody tr th {\n",
       "        vertical-align: top;\n",
       "    }\n",
       "\n",
       "    .dataframe thead th {\n",
       "        text-align: right;\n",
       "    }\n",
       "</style>\n",
       "<table border=\"1\" class=\"dataframe\">\n",
       "  <thead>\n",
       "    <tr style=\"text-align: right;\">\n",
       "      <th></th>\n",
       "      <th>Country or Area</th>\n",
       "      <th>Year</th>\n",
       "      <th>Value</th>\n",
       "      <th>Value Footnotes</th>\n",
       "    </tr>\n",
       "  </thead>\n",
       "  <tbody>\n",
       "    <tr>\n",
       "      <th>0</th>\n",
       "      <td>Afghanistan</td>\n",
       "      <td>2023</td>\n",
       "      <td>1992.424394</td>\n",
       "      <td>NaN</td>\n",
       "    </tr>\n",
       "    <tr>\n",
       "      <th>1</th>\n",
       "      <td>Afghanistan</td>\n",
       "      <td>2022</td>\n",
       "      <td>1981.710168</td>\n",
       "      <td>NaN</td>\n",
       "    </tr>\n",
       "    <tr>\n",
       "      <th>2</th>\n",
       "      <td>Afghanistan</td>\n",
       "      <td>2021</td>\n",
       "      <td>2144.166570</td>\n",
       "      <td>NaN</td>\n",
       "    </tr>\n",
       "    <tr>\n",
       "      <th>3</th>\n",
       "      <td>Afghanistan</td>\n",
       "      <td>2020</td>\n",
       "      <td>2769.685745</td>\n",
       "      <td>NaN</td>\n",
       "    </tr>\n",
       "    <tr>\n",
       "      <th>4</th>\n",
       "      <td>Afghanistan</td>\n",
       "      <td>2019</td>\n",
       "      <td>2927.245144</td>\n",
       "      <td>NaN</td>\n",
       "    </tr>\n",
       "  </tbody>\n",
       "</table>\n",
       "</div>"
      ],
      "text/plain": [
       "  Country or Area  Year        Value  Value Footnotes\n",
       "0     Afghanistan  2023  1992.424394              NaN\n",
       "1     Afghanistan  2022  1981.710168              NaN\n",
       "2     Afghanistan  2021  2144.166570              NaN\n",
       "3     Afghanistan  2020  2769.685745              NaN\n",
       "4     Afghanistan  2019  2927.245144              NaN"
      ]
     },
     "execution_count": 111,
     "metadata": {},
     "output_type": "execute_result"
    }
   ],
   "source": [
    "gdp_df.head()"
   ]
  },
  {
   "cell_type": "code",
   "execution_count": 112,
   "id": "c9afce45-f4f1-4c09-a0c9-6d1c3a428a53",
   "metadata": {},
   "outputs": [
    {
     "data": {
      "text/html": [
       "<div>\n",
       "<style scoped>\n",
       "    .dataframe tbody tr th:only-of-type {\n",
       "        vertical-align: middle;\n",
       "    }\n",
       "\n",
       "    .dataframe tbody tr th {\n",
       "        vertical-align: top;\n",
       "    }\n",
       "\n",
       "    .dataframe thead th {\n",
       "        text-align: right;\n",
       "    }\n",
       "</style>\n",
       "<table border=\"1\" class=\"dataframe\">\n",
       "  <thead>\n",
       "    <tr style=\"text-align: right;\">\n",
       "      <th></th>\n",
       "      <th>Country or Area</th>\n",
       "      <th>Year</th>\n",
       "      <th>Value</th>\n",
       "      <th>Value Footnotes</th>\n",
       "    </tr>\n",
       "  </thead>\n",
       "  <tbody>\n",
       "    <tr>\n",
       "      <th>8214</th>\n",
       "      <td>Zimbabwe</td>\n",
       "      <td>1994</td>\n",
       "      <td>3965.730986</td>\n",
       "      <td>NaN</td>\n",
       "    </tr>\n",
       "    <tr>\n",
       "      <th>8215</th>\n",
       "      <td>Zimbabwe</td>\n",
       "      <td>1993</td>\n",
       "      <td>3634.750494</td>\n",
       "      <td>NaN</td>\n",
       "    </tr>\n",
       "    <tr>\n",
       "      <th>8216</th>\n",
       "      <td>Zimbabwe</td>\n",
       "      <td>1992</td>\n",
       "      <td>3649.891947</td>\n",
       "      <td>NaN</td>\n",
       "    </tr>\n",
       "    <tr>\n",
       "      <th>8217</th>\n",
       "      <td>Zimbabwe</td>\n",
       "      <td>1991</td>\n",
       "      <td>4126.405247</td>\n",
       "      <td>NaN</td>\n",
       "    </tr>\n",
       "    <tr>\n",
       "      <th>8218</th>\n",
       "      <td>Zimbabwe</td>\n",
       "      <td>1990</td>\n",
       "      <td>4013.299059</td>\n",
       "      <td>NaN</td>\n",
       "    </tr>\n",
       "  </tbody>\n",
       "</table>\n",
       "</div>"
      ],
      "text/plain": [
       "     Country or Area  Year        Value  Value Footnotes\n",
       "8214        Zimbabwe  1994  3965.730986              NaN\n",
       "8215        Zimbabwe  1993  3634.750494              NaN\n",
       "8216        Zimbabwe  1992  3649.891947              NaN\n",
       "8217        Zimbabwe  1991  4126.405247              NaN\n",
       "8218        Zimbabwe  1990  4013.299059              NaN"
      ]
     },
     "execution_count": 112,
     "metadata": {},
     "output_type": "execute_result"
    }
   ],
   "source": [
    "gdp_df.tail()"
   ]
  },
  {
   "cell_type": "markdown",
   "id": "cbadc46d-0f8c-43a3-b6f0-0a4c600e863c",
   "metadata": {},
   "source": [
    "### 5. How many rows and columns are in `gdp_df`? What are the data types of each column?"
   ]
  },
  {
   "cell_type": "code",
   "execution_count": 5,
   "id": "e2ad73a6-6e0e-423d-ae5d-63d7e0bc9ce1",
   "metadata": {},
   "outputs": [
    {
     "data": {
      "text/plain": [
       "34"
      ]
     },
     "execution_count": 5,
     "metadata": {},
     "output_type": "execute_result"
    }
   ],
   "source": [
    "gdp_df.Year.nunique()"
   ]
  },
  {
   "cell_type": "code",
   "execution_count": 6,
   "id": "57745bf6-2bef-46be-9c23-e4f0e635822f",
   "metadata": {},
   "outputs": [
    {
     "data": {
      "text/plain": [
       "(8219, 4)"
      ]
     },
     "execution_count": 6,
     "metadata": {},
     "output_type": "execute_result"
    }
   ],
   "source": [
    "gdp_df.shape"
   ]
  },
  {
   "cell_type": "code",
   "execution_count": 7,
   "id": "190d1539-fd6d-4cd5-93e3-02ae35d60fab",
   "metadata": {},
   "outputs": [
    {
     "data": {
      "text/plain": [
       "Country or Area     object\n",
       "Year                 int64\n",
       "Value              float64\n",
       "Value Footnotes    float64\n",
       "dtype: object"
      ]
     },
     "execution_count": 7,
     "metadata": {},
     "output_type": "execute_result"
    }
   ],
   "source": [
    "gdp_df.dtypes"
   ]
  },
  {
   "cell_type": "markdown",
   "id": "4f4f0e20-1d7d-402f-9e5d-9cbff120e57c",
   "metadata": {},
   "source": [
    "### 6. Drop the `Value Footnotes` column and rename the remaining three to 'Country', 'Year', and 'GDP_Per_Capita'."
   ]
  },
  {
   "cell_type": "code",
   "execution_count": 191,
   "id": "0dc835c2-73af-4821-b33a-ce2015361ee0",
   "metadata": {},
   "outputs": [
    {
     "data": {
      "text/html": [
       "<div>\n",
       "<style scoped>\n",
       "    .dataframe tbody tr th:only-of-type {\n",
       "        vertical-align: middle;\n",
       "    }\n",
       "\n",
       "    .dataframe tbody tr th {\n",
       "        vertical-align: top;\n",
       "    }\n",
       "\n",
       "    .dataframe thead th {\n",
       "        text-align: right;\n",
       "    }\n",
       "</style>\n",
       "<table border=\"1\" class=\"dataframe\">\n",
       "  <thead>\n",
       "    <tr style=\"text-align: right;\">\n",
       "      <th></th>\n",
       "      <th>Country or Area</th>\n",
       "      <th>Year</th>\n",
       "      <th>Value</th>\n",
       "    </tr>\n",
       "  </thead>\n",
       "  <tbody>\n",
       "    <tr>\n",
       "      <th>0</th>\n",
       "      <td>Afghanistan</td>\n",
       "      <td>2023</td>\n",
       "      <td>1992.424394</td>\n",
       "    </tr>\n",
       "    <tr>\n",
       "      <th>1</th>\n",
       "      <td>Afghanistan</td>\n",
       "      <td>2022</td>\n",
       "      <td>1981.710168</td>\n",
       "    </tr>\n",
       "    <tr>\n",
       "      <th>2</th>\n",
       "      <td>Afghanistan</td>\n",
       "      <td>2021</td>\n",
       "      <td>2144.166570</td>\n",
       "    </tr>\n",
       "    <tr>\n",
       "      <th>3</th>\n",
       "      <td>Afghanistan</td>\n",
       "      <td>2020</td>\n",
       "      <td>2769.685745</td>\n",
       "    </tr>\n",
       "    <tr>\n",
       "      <th>4</th>\n",
       "      <td>Afghanistan</td>\n",
       "      <td>2019</td>\n",
       "      <td>2927.245144</td>\n",
       "    </tr>\n",
       "    <tr>\n",
       "      <th>...</th>\n",
       "      <td>...</td>\n",
       "      <td>...</td>\n",
       "      <td>...</td>\n",
       "    </tr>\n",
       "    <tr>\n",
       "      <th>8214</th>\n",
       "      <td>Zimbabwe</td>\n",
       "      <td>1994</td>\n",
       "      <td>3965.730986</td>\n",
       "    </tr>\n",
       "    <tr>\n",
       "      <th>8215</th>\n",
       "      <td>Zimbabwe</td>\n",
       "      <td>1993</td>\n",
       "      <td>3634.750494</td>\n",
       "    </tr>\n",
       "    <tr>\n",
       "      <th>8216</th>\n",
       "      <td>Zimbabwe</td>\n",
       "      <td>1992</td>\n",
       "      <td>3649.891947</td>\n",
       "    </tr>\n",
       "    <tr>\n",
       "      <th>8217</th>\n",
       "      <td>Zimbabwe</td>\n",
       "      <td>1991</td>\n",
       "      <td>4126.405247</td>\n",
       "    </tr>\n",
       "    <tr>\n",
       "      <th>8218</th>\n",
       "      <td>Zimbabwe</td>\n",
       "      <td>1990</td>\n",
       "      <td>4013.299059</td>\n",
       "    </tr>\n",
       "  </tbody>\n",
       "</table>\n",
       "<p>8219 rows × 3 columns</p>\n",
       "</div>"
      ],
      "text/plain": [
       "     Country or Area  Year        Value\n",
       "0        Afghanistan  2023  1992.424394\n",
       "1        Afghanistan  2022  1981.710168\n",
       "2        Afghanistan  2021  2144.166570\n",
       "3        Afghanistan  2020  2769.685745\n",
       "4        Afghanistan  2019  2927.245144\n",
       "...              ...   ...          ...\n",
       "8214        Zimbabwe  1994  3965.730986\n",
       "8215        Zimbabwe  1993  3634.750494\n",
       "8216        Zimbabwe  1992  3649.891947\n",
       "8217        Zimbabwe  1991  4126.405247\n",
       "8218        Zimbabwe  1990  4013.299059\n",
       "\n",
       "[8219 rows x 3 columns]"
      ]
     },
     "execution_count": 191,
     "metadata": {},
     "output_type": "execute_result"
    }
   ],
   "source": [
    "GDP_per_Capita_df = gdp_df.drop(columns = ['Value Footnotes'])\n",
    "GDP_per_Capita_df"
   ]
  },
  {
   "cell_type": "code",
   "execution_count": 192,
   "id": "e51d49c7-155e-4299-ac27-b5c750ef3380",
   "metadata": {},
   "outputs": [],
   "source": [
    "GDP_per_Capita_df = GDP_per_Capita_df.rename(columns={'Country or Area':'Country','Year':'year','Value':'GDP_Per_Capita'})"
   ]
  },
  {
   "cell_type": "code",
   "execution_count": null,
   "id": "c9af76a2-609c-4056-a514-259868ae3455",
   "metadata": {},
   "outputs": [],
   "source": [
    "## other way to rename coloumns\n",
    "## GDP_per_Capita.columns =['Country','year','GDP_Per_Capita']"
   ]
  },
  {
   "cell_type": "code",
   "execution_count": 193,
   "id": "9b276eb6-73c5-4f1c-a789-33442c1fec03",
   "metadata": {},
   "outputs": [
    {
     "data": {
      "text/html": [
       "<div>\n",
       "<style scoped>\n",
       "    .dataframe tbody tr th:only-of-type {\n",
       "        vertical-align: middle;\n",
       "    }\n",
       "\n",
       "    .dataframe tbody tr th {\n",
       "        vertical-align: top;\n",
       "    }\n",
       "\n",
       "    .dataframe thead th {\n",
       "        text-align: right;\n",
       "    }\n",
       "</style>\n",
       "<table border=\"1\" class=\"dataframe\">\n",
       "  <thead>\n",
       "    <tr style=\"text-align: right;\">\n",
       "      <th></th>\n",
       "      <th>Country</th>\n",
       "      <th>year</th>\n",
       "      <th>GDP_Per_Capita</th>\n",
       "    </tr>\n",
       "  </thead>\n",
       "  <tbody>\n",
       "    <tr>\n",
       "      <th>0</th>\n",
       "      <td>Afghanistan</td>\n",
       "      <td>2023</td>\n",
       "      <td>1992.424394</td>\n",
       "    </tr>\n",
       "    <tr>\n",
       "      <th>1</th>\n",
       "      <td>Afghanistan</td>\n",
       "      <td>2022</td>\n",
       "      <td>1981.710168</td>\n",
       "    </tr>\n",
       "    <tr>\n",
       "      <th>2</th>\n",
       "      <td>Afghanistan</td>\n",
       "      <td>2021</td>\n",
       "      <td>2144.166570</td>\n",
       "    </tr>\n",
       "    <tr>\n",
       "      <th>3</th>\n",
       "      <td>Afghanistan</td>\n",
       "      <td>2020</td>\n",
       "      <td>2769.685745</td>\n",
       "    </tr>\n",
       "    <tr>\n",
       "      <th>4</th>\n",
       "      <td>Afghanistan</td>\n",
       "      <td>2019</td>\n",
       "      <td>2927.245144</td>\n",
       "    </tr>\n",
       "    <tr>\n",
       "      <th>...</th>\n",
       "      <td>...</td>\n",
       "      <td>...</td>\n",
       "      <td>...</td>\n",
       "    </tr>\n",
       "    <tr>\n",
       "      <th>8214</th>\n",
       "      <td>Zimbabwe</td>\n",
       "      <td>1994</td>\n",
       "      <td>3965.730986</td>\n",
       "    </tr>\n",
       "    <tr>\n",
       "      <th>8215</th>\n",
       "      <td>Zimbabwe</td>\n",
       "      <td>1993</td>\n",
       "      <td>3634.750494</td>\n",
       "    </tr>\n",
       "    <tr>\n",
       "      <th>8216</th>\n",
       "      <td>Zimbabwe</td>\n",
       "      <td>1992</td>\n",
       "      <td>3649.891947</td>\n",
       "    </tr>\n",
       "    <tr>\n",
       "      <th>8217</th>\n",
       "      <td>Zimbabwe</td>\n",
       "      <td>1991</td>\n",
       "      <td>4126.405247</td>\n",
       "    </tr>\n",
       "    <tr>\n",
       "      <th>8218</th>\n",
       "      <td>Zimbabwe</td>\n",
       "      <td>1990</td>\n",
       "      <td>4013.299059</td>\n",
       "    </tr>\n",
       "  </tbody>\n",
       "</table>\n",
       "<p>8219 rows × 3 columns</p>\n",
       "</div>"
      ],
      "text/plain": [
       "          Country  year  GDP_Per_Capita\n",
       "0     Afghanistan  2023     1992.424394\n",
       "1     Afghanistan  2022     1981.710168\n",
       "2     Afghanistan  2021     2144.166570\n",
       "3     Afghanistan  2020     2769.685745\n",
       "4     Afghanistan  2019     2927.245144\n",
       "...           ...   ...             ...\n",
       "8214     Zimbabwe  1994     3965.730986\n",
       "8215     Zimbabwe  1993     3634.750494\n",
       "8216     Zimbabwe  1992     3649.891947\n",
       "8217     Zimbabwe  1991     4126.405247\n",
       "8218     Zimbabwe  1990     4013.299059\n",
       "\n",
       "[8219 rows x 3 columns]"
      ]
     },
     "execution_count": 193,
     "metadata": {},
     "output_type": "execute_result"
    }
   ],
   "source": [
    "GDP_per_Capita_df"
   ]
  },
  {
   "cell_type": "markdown",
   "id": "863317eb-7d67-4297-abf2-18467ad7dff8",
   "metadata": {},
   "source": [
    "### 7. How many countries have data for all years? Which countries are missing many years of data? Look at the number of observations per year. What do you notice?"
   ]
  },
  {
   "cell_type": "code",
   "execution_count": 194,
   "id": "2044c6b5-cbb4-474f-9920-18bec185daf0",
   "metadata": {},
   "outputs": [
    {
     "data": {
      "text/plain": [
       "34"
      ]
     },
     "execution_count": 194,
     "metadata": {},
     "output_type": "execute_result"
    }
   ],
   "source": [
    "GDP_per_Capita_df['year'].nunique()"
   ]
  },
  {
   "cell_type": "code",
   "execution_count": 198,
   "id": "ea32d41d-176b-473f-b49e-15764fd3b908",
   "metadata": {},
   "outputs": [],
   "source": [
    "country_count = GDP_per_Capita_df['Country'].value_counts().reset_index()"
   ]
  },
  {
   "cell_type": "code",
   "execution_count": 199,
   "id": "832e665a-99e0-4379-b4dc-3ad5675b47e9",
   "metadata": {},
   "outputs": [],
   "source": [
    "country_count.columns = ['Country','Count']"
   ]
  },
  {
   "cell_type": "code",
   "execution_count": 200,
   "id": "16bffade-00ea-4a5e-ad65-c0157c0eba3c",
   "metadata": {},
   "outputs": [
    {
     "data": {
      "text/html": [
       "<div>\n",
       "<style scoped>\n",
       "    .dataframe tbody tr th:only-of-type {\n",
       "        vertical-align: middle;\n",
       "    }\n",
       "\n",
       "    .dataframe tbody tr th {\n",
       "        vertical-align: top;\n",
       "    }\n",
       "\n",
       "    .dataframe thead th {\n",
       "        text-align: right;\n",
       "    }\n",
       "</style>\n",
       "<table border=\"1\" class=\"dataframe\">\n",
       "  <thead>\n",
       "    <tr style=\"text-align: right;\">\n",
       "      <th></th>\n",
       "      <th>Country</th>\n",
       "      <th>Count</th>\n",
       "    </tr>\n",
       "  </thead>\n",
       "  <tbody>\n",
       "    <tr>\n",
       "      <th>0</th>\n",
       "      <td>Africa Eastern and Southern</td>\n",
       "      <td>34</td>\n",
       "    </tr>\n",
       "    <tr>\n",
       "      <th>1</th>\n",
       "      <td>Africa Western and Central</td>\n",
       "      <td>34</td>\n",
       "    </tr>\n",
       "    <tr>\n",
       "      <th>2</th>\n",
       "      <td>Albania</td>\n",
       "      <td>34</td>\n",
       "    </tr>\n",
       "    <tr>\n",
       "      <th>3</th>\n",
       "      <td>Andorra</td>\n",
       "      <td>34</td>\n",
       "    </tr>\n",
       "    <tr>\n",
       "      <th>4</th>\n",
       "      <td>Algeria</td>\n",
       "      <td>34</td>\n",
       "    </tr>\n",
       "    <tr>\n",
       "      <th>...</th>\n",
       "      <td>...</td>\n",
       "      <td>...</td>\n",
       "    </tr>\n",
       "    <tr>\n",
       "      <th>242</th>\n",
       "      <td>Faroe Islands</td>\n",
       "      <td>16</td>\n",
       "    </tr>\n",
       "    <tr>\n",
       "      <th>243</th>\n",
       "      <td>Kosovo</td>\n",
       "      <td>16</td>\n",
       "    </tr>\n",
       "    <tr>\n",
       "      <th>244</th>\n",
       "      <td>Sint Maarten (Dutch part)</td>\n",
       "      <td>15</td>\n",
       "    </tr>\n",
       "    <tr>\n",
       "      <th>245</th>\n",
       "      <td>Turks and Caicos Islands</td>\n",
       "      <td>13</td>\n",
       "    </tr>\n",
       "    <tr>\n",
       "      <th>246</th>\n",
       "      <td>Djibouti</td>\n",
       "      <td>11</td>\n",
       "    </tr>\n",
       "  </tbody>\n",
       "</table>\n",
       "<p>247 rows × 2 columns</p>\n",
       "</div>"
      ],
      "text/plain": [
       "                         Country  Count\n",
       "0    Africa Eastern and Southern     34\n",
       "1     Africa Western and Central     34\n",
       "2                        Albania     34\n",
       "3                        Andorra     34\n",
       "4                        Algeria     34\n",
       "..                           ...    ...\n",
       "242                Faroe Islands     16\n",
       "243                       Kosovo     16\n",
       "244    Sint Maarten (Dutch part)     15\n",
       "245     Turks and Caicos Islands     13\n",
       "246                     Djibouti     11\n",
       "\n",
       "[247 rows x 2 columns]"
      ]
     },
     "execution_count": 200,
     "metadata": {},
     "output_type": "execute_result"
    }
   ],
   "source": [
    "country_count"
   ]
  },
  {
   "cell_type": "code",
   "execution_count": 201,
   "id": "a2250a97-4fcb-4c1f-8784-39d02a94727c",
   "metadata": {},
   "outputs": [
    {
     "data": {
      "text/plain": [
       "228"
      ]
     },
     "execution_count": 201,
     "metadata": {},
     "output_type": "execute_result"
    }
   ],
   "source": [
    "len(country_count.loc[country_count.Count == GDP_per_Capita_df.year.nunique()])"
   ]
  },
  {
   "cell_type": "code",
   "execution_count": 202,
   "id": "616ea25f-7ab5-4d9e-a3e4-f3d42da678f1",
   "metadata": {},
   "outputs": [
    {
     "data": {
      "text/plain": [
       "['Lebanon',\n",
       " 'Tonga',\n",
       " 'Bhutan',\n",
       " 'Syrian Arab Republic',\n",
       " 'Somalia',\n",
       " 'Greenland',\n",
       " 'West Bank and Gaza',\n",
       " 'Serbia',\n",
       " 'Montenegro',\n",
       " 'San Marino',\n",
       " 'CuraÃ§ao',\n",
       " 'Afghanistan',\n",
       " 'Virgin Islands',\n",
       " 'Cayman Islands',\n",
       " 'Faroe Islands',\n",
       " 'Kosovo',\n",
       " 'Sint Maarten (Dutch part)',\n",
       " 'Turks and Caicos Islands',\n",
       " 'Djibouti']"
      ]
     },
     "execution_count": 202,
     "metadata": {},
     "output_type": "execute_result"
    }
   ],
   "source": [
    "country_count.loc[country_count.Count != GDP_per_Capita_df.year.nunique()].Country.to_list()"
   ]
  },
  {
   "cell_type": "code",
   "execution_count": 203,
   "id": "ad2a1089-1cc4-416f-8008-4705e578d900",
   "metadata": {},
   "outputs": [
    {
     "data": {
      "text/plain": [
       "19"
      ]
     },
     "execution_count": 203,
     "metadata": {},
     "output_type": "execute_result"
    }
   ],
   "source": [
    "len(country_count.loc[country_count.Count != GDP_per_Capita_df.year.nunique()])"
   ]
  },
  {
   "cell_type": "code",
   "execution_count": 205,
   "id": "f043d5c5-8e4b-49c6-a46b-28a1bd47fa8d",
   "metadata": {},
   "outputs": [
    {
     "data": {
      "text/plain": [
       "<Axes: xlabel='year'>"
      ]
     },
     "execution_count": 205,
     "metadata": {},
     "output_type": "execute_result"
    },
    {
     "data": {
      "image/png": "[encoded data removed]",
      "text/plain": [
       "<Figure size 640x480 with 1 Axes>"
      ]
     },
     "metadata": {},
     "output_type": "display_data"
    }
   ],
   "source": [
    "GDP_per_Capita_df.year.value_counts().plot(kind = 'bar')\n",
    "## most recent has more measures than the older ones\n"
   ]
  },
  {
   "cell_type": "code",
   "execution_count": null,
   "id": "d4a7bbac-1583-463c-928b-e9b09f6468ef",
   "metadata": {},
   "outputs": [],
   "source": [
    "## if you want to get a number of countries use len()."
   ]
  },
  {
   "cell_type": "markdown",
   "id": "852ab043-9dee-4aca-ab08-2794c44e1327",
   "metadata": {},
   "source": [
    "### 8. In this question, you're going to create some plots to show the distribution of GDP per capita for the year 2020. Go to the Python Graph Gallery (https://www.python-graph-gallery.com/) and look at the different types of plots under the Distribution section. Create a histogram, a density plot, a boxplot, and a violin plot. What do you notice when you look at these plots? How do the plots compare and what information can you get out of one type that you can't necessarily get out of the others?"
   ]
  },
  {
   "cell_type": "code",
   "execution_count": 206,
   "id": "6f95ad5b-4a1c-40dd-90a2-70074498c60b",
   "metadata": {},
   "outputs": [
    {
     "data": {
      "text/html": [
       "<div>\n",
       "<style scoped>\n",
       "    .dataframe tbody tr th:only-of-type {\n",
       "        vertical-align: middle;\n",
       "    }\n",
       "\n",
       "    .dataframe tbody tr th {\n",
       "        vertical-align: top;\n",
       "    }\n",
       "\n",
       "    .dataframe thead th {\n",
       "        text-align: right;\n",
       "    }\n",
       "</style>\n",
       "<table border=\"1\" class=\"dataframe\">\n",
       "  <thead>\n",
       "    <tr style=\"text-align: right;\">\n",
       "      <th></th>\n",
       "      <th>Country</th>\n",
       "      <th>year</th>\n",
       "      <th>GDP_Per_Capita</th>\n",
       "    </tr>\n",
       "  </thead>\n",
       "  <tbody>\n",
       "    <tr>\n",
       "      <th>0</th>\n",
       "      <td>Afghanistan</td>\n",
       "      <td>2023</td>\n",
       "      <td>1992.424394</td>\n",
       "    </tr>\n",
       "    <tr>\n",
       "      <th>1</th>\n",
       "      <td>Afghanistan</td>\n",
       "      <td>2022</td>\n",
       "      <td>1981.710168</td>\n",
       "    </tr>\n",
       "    <tr>\n",
       "      <th>2</th>\n",
       "      <td>Afghanistan</td>\n",
       "      <td>2021</td>\n",
       "      <td>2144.166570</td>\n",
       "    </tr>\n",
       "    <tr>\n",
       "      <th>3</th>\n",
       "      <td>Afghanistan</td>\n",
       "      <td>2020</td>\n",
       "      <td>2769.685745</td>\n",
       "    </tr>\n",
       "    <tr>\n",
       "      <th>4</th>\n",
       "      <td>Afghanistan</td>\n",
       "      <td>2019</td>\n",
       "      <td>2927.245144</td>\n",
       "    </tr>\n",
       "  </tbody>\n",
       "</table>\n",
       "</div>"
      ],
      "text/plain": [
       "       Country  year  GDP_Per_Capita\n",
       "0  Afghanistan  2023     1992.424394\n",
       "1  Afghanistan  2022     1981.710168\n",
       "2  Afghanistan  2021     2144.166570\n",
       "3  Afghanistan  2020     2769.685745\n",
       "4  Afghanistan  2019     2927.245144"
      ]
     },
     "execution_count": 206,
     "metadata": {},
     "output_type": "execute_result"
    }
   ],
   "source": [
    "GDP_per_Capita_df.head()"
   ]
  },
  {
   "cell_type": "code",
   "execution_count": 207,
   "id": "871e07ef-290c-4ece-aaa3-3098b71d19fa",
   "metadata": {},
   "outputs": [],
   "source": [
    "gdp_2020 = GDP_per_Capita_df.loc[GDP_per_Capita['year'] == 2020]"
   ]
  },
  {
   "cell_type": "code",
   "execution_count": 22,
   "id": "0afad5fd-ea55-4e88-b098-fbe16e4d83a7",
   "metadata": {},
   "outputs": [
    {
     "data": {
      "text/html": [
       "<div>\n",
       "<style scoped>\n",
       "    .dataframe tbody tr th:only-of-type {\n",
       "        vertical-align: middle;\n",
       "    }\n",
       "\n",
       "    .dataframe tbody tr th {\n",
       "        vertical-align: top;\n",
       "    }\n",
       "\n",
       "    .dataframe thead th {\n",
       "        text-align: right;\n",
       "    }\n",
       "</style>\n",
       "<table border=\"1\" class=\"dataframe\">\n",
       "  <thead>\n",
       "    <tr style=\"text-align: right;\">\n",
       "      <th></th>\n",
       "      <th>Country</th>\n",
       "      <th>year</th>\n",
       "      <th>GDP_Per_Capita</th>\n",
       "    </tr>\n",
       "  </thead>\n",
       "  <tbody>\n",
       "    <tr>\n",
       "      <th>3</th>\n",
       "      <td>Afghanistan</td>\n",
       "      <td>2020</td>\n",
       "      <td>2769.685745</td>\n",
       "    </tr>\n",
       "    <tr>\n",
       "      <th>27</th>\n",
       "      <td>Africa Eastern and Southern</td>\n",
       "      <td>2020</td>\n",
       "      <td>3861.111238</td>\n",
       "    </tr>\n",
       "    <tr>\n",
       "      <th>61</th>\n",
       "      <td>Africa Western and Central</td>\n",
       "      <td>2020</td>\n",
       "      <td>4622.731427</td>\n",
       "    </tr>\n",
       "    <tr>\n",
       "      <th>95</th>\n",
       "      <td>Albania</td>\n",
       "      <td>2020</td>\n",
       "      <td>14650.395929</td>\n",
       "    </tr>\n",
       "    <tr>\n",
       "      <th>129</th>\n",
       "      <td>Algeria</td>\n",
       "      <td>2020</td>\n",
       "      <td>14194.155748</td>\n",
       "    </tr>\n",
       "  </tbody>\n",
       "</table>\n",
       "</div>"
      ],
      "text/plain": [
       "                         Country  year  GDP_Per_Capita\n",
       "3                    Afghanistan  2020     2769.685745\n",
       "27   Africa Eastern and Southern  2020     3861.111238\n",
       "61    Africa Western and Central  2020     4622.731427\n",
       "95                       Albania  2020    14650.395929\n",
       "129                      Algeria  2020    14194.155748"
      ]
     },
     "execution_count": 22,
     "metadata": {},
     "output_type": "execute_result"
    }
   ],
   "source": [
    "gdp_2020.head()"
   ]
  },
  {
   "cell_type": "code",
   "execution_count": 208,
   "id": "78e77ec0-03c7-4e26-870e-ff94ef8a9626",
   "metadata": {},
   "outputs": [
    {
     "data": {
      "image/png": "[encoded data removed]",
      "text/plain": [
       "<Figure size 800x600 with 1 Axes>"
      ]
     },
     "metadata": {},
     "output_type": "display_data"
    }
   ],
   "source": [
    "gdp_2020['GDP_Per_Capita'].hist(bins =8 ,color = 'olive',edgecolor = 'black',figsize = (8,6))\n",
    "plt.title('GDP_per_capita in 2020',fontsize  = 14);\n",
    "### This chart is left skewed."
   ]
  },
  {
   "cell_type": "code",
   "execution_count": 209,
   "id": "61ef96b4-6165-4bb3-a7af-abb770655bde",
   "metadata": {},
   "outputs": [
    {
     "data": {
      "image/png": "[encoded data removed]",
      "text/plain": [
       "<Figure size 640x480 with 1 Axes>"
      ]
     },
     "metadata": {},
     "output_type": "display_data"
    }
   ],
   "source": [
    "gdp_2020.boxplot('GDP_Per_Capita');\n"
   ]
  },
  {
   "cell_type": "code",
   "execution_count": 210,
   "id": "19c0c5c4-a993-4bf7-a9f8-473c2e3a8e98",
   "metadata": {},
   "outputs": [
    {
     "data": {
      "image/png": "[encoded data removed]",
      "text/plain": [
       "<Figure size 640x480 with 1 Axes>"
      ]
     },
     "metadata": {},
     "output_type": "display_data"
    }
   ],
   "source": [
    "sns.boxplot(data = gdp_2020,y= 'GDP_Per_Capita');"
   ]
  },
  {
   "cell_type": "code",
   "execution_count": 211,
   "id": "a935f879-aa97-4503-aeea-9dff7c40ce14",
   "metadata": {},
   "outputs": [
    {
     "data": {
      "image/png": "[encoded data removed]",
      "text/plain": [
       "<Figure size 640x480 with 1 Axes>"
      ]
     },
     "metadata": {},
     "output_type": "display_data"
    }
   ],
   "source": [
    "sns.kdeplot( data = gdp_2020,x= 'GDP_Per_Capita');\n",
    "### its a logritham 100% of data this fit in the line."
   ]
  },
  {
   "cell_type": "markdown",
   "id": "b7e5f758-2442-4013-be6a-1f8779ec2ad9",
   "metadata": {},
   "source": [
    "### we can see boxplot gives the outliers info."
   ]
  },
  {
   "cell_type": "markdown",
   "id": "139c6511-21e5-4fb0-ba14-ba6d98da532c",
   "metadata": {},
   "source": [
    "### A violin plot allows you to visualize the distribution of a numeric variable for one or several groups.\n",
    "##  It allows to compare distributions from one group to another."
   ]
  },
  {
   "cell_type": "code",
   "execution_count": 212,
   "id": "f3df2e4b-dc3a-4f5f-86b3-050ea2860e5f",
   "metadata": {},
   "outputs": [
    {
     "data": {
      "image/png": "[encoded data removed]",
      "text/plain": [
       "<Figure size 640x480 with 1 Axes>"
      ]
     },
     "metadata": {},
     "output_type": "display_data"
    }
   ],
   "source": [
    "sns.set_theme(style=\"darkgrid\")\n",
    "sns.violinplot(x=gdp_2020 ['GDP_Per_Capita'])\n",
    "plt.show();"
   ]
  },
  {
   "cell_type": "markdown",
   "id": "40c62991-437a-42ed-b371-d531ed174a83",
   "metadata": {},
   "source": [
    "### 9. What was the median GDP per capita value in 2020?"
   ]
  },
  {
   "cell_type": "code",
   "execution_count": 213,
   "id": "287ebcc0-3ff5-4e71-971f-cc7cb0133b05",
   "metadata": {},
   "outputs": [
    {
     "data": {
      "text/plain": [
       "15309.23598817024"
      ]
     },
     "execution_count": 213,
     "metadata": {},
     "output_type": "execute_result"
    }
   ],
   "source": [
    "gdp_2020['GDP_Per_Capita'] .median()"
   ]
  },
  {
   "cell_type": "markdown",
   "id": "77adeb43-79c0-43f7-b147-d05360030746",
   "metadata": {},
   "source": [
    "#### 10. For this question, you're going to create some visualizations to compare GDP per capita values for the years 1990, 2000, 2010, and 2020. Start by subsetting your data to just these 4 years into a new DataFrame named gdp_decades. Using this, create the following 4 plots:\n",
    "\t* A boxplot\n",
    "\t* A barplot (check out the Barplot with Seaborn section: https://www.python-graph-gallery.com/barplot/#Seaborn)\n",
    "\t* A scatterplot\n",
    "\t* A scatterplot with a trend line overlaid (see this regplot example: https://www.python-graph-gallery.com/42-custom-linear-regression-fit-seaborn)  \n",
    "Comment on what you observe has happened to GDP values over time and the relative strengths and weaknesses of each type of plot."
   ]
  },
  {
   "cell_type": "code",
   "execution_count": 214,
   "id": "2a00216f-450a-474e-bea0-832fb32ef454",
   "metadata": {},
   "outputs": [
    {
     "data": {
      "text/html": [
       "<div>\n",
       "<style scoped>\n",
       "    .dataframe tbody tr th:only-of-type {\n",
       "        vertical-align: middle;\n",
       "    }\n",
       "\n",
       "    .dataframe tbody tr th {\n",
       "        vertical-align: top;\n",
       "    }\n",
       "\n",
       "    .dataframe thead th {\n",
       "        text-align: right;\n",
       "    }\n",
       "</style>\n",
       "<table border=\"1\" class=\"dataframe\">\n",
       "  <thead>\n",
       "    <tr style=\"text-align: right;\">\n",
       "      <th></th>\n",
       "      <th>Country</th>\n",
       "      <th>year</th>\n",
       "      <th>GDP_Per_Capita</th>\n",
       "    </tr>\n",
       "  </thead>\n",
       "  <tbody>\n",
       "    <tr>\n",
       "      <th>0</th>\n",
       "      <td>Afghanistan</td>\n",
       "      <td>2023</td>\n",
       "      <td>1992.424394</td>\n",
       "    </tr>\n",
       "    <tr>\n",
       "      <th>1</th>\n",
       "      <td>Afghanistan</td>\n",
       "      <td>2022</td>\n",
       "      <td>1981.710168</td>\n",
       "    </tr>\n",
       "    <tr>\n",
       "      <th>2</th>\n",
       "      <td>Afghanistan</td>\n",
       "      <td>2021</td>\n",
       "      <td>2144.166570</td>\n",
       "    </tr>\n",
       "    <tr>\n",
       "      <th>3</th>\n",
       "      <td>Afghanistan</td>\n",
       "      <td>2020</td>\n",
       "      <td>2769.685745</td>\n",
       "    </tr>\n",
       "    <tr>\n",
       "      <th>4</th>\n",
       "      <td>Afghanistan</td>\n",
       "      <td>2019</td>\n",
       "      <td>2927.245144</td>\n",
       "    </tr>\n",
       "    <tr>\n",
       "      <th>...</th>\n",
       "      <td>...</td>\n",
       "      <td>...</td>\n",
       "      <td>...</td>\n",
       "    </tr>\n",
       "    <tr>\n",
       "      <th>8214</th>\n",
       "      <td>Zimbabwe</td>\n",
       "      <td>1994</td>\n",
       "      <td>3965.730986</td>\n",
       "    </tr>\n",
       "    <tr>\n",
       "      <th>8215</th>\n",
       "      <td>Zimbabwe</td>\n",
       "      <td>1993</td>\n",
       "      <td>3634.750494</td>\n",
       "    </tr>\n",
       "    <tr>\n",
       "      <th>8216</th>\n",
       "      <td>Zimbabwe</td>\n",
       "      <td>1992</td>\n",
       "      <td>3649.891947</td>\n",
       "    </tr>\n",
       "    <tr>\n",
       "      <th>8217</th>\n",
       "      <td>Zimbabwe</td>\n",
       "      <td>1991</td>\n",
       "      <td>4126.405247</td>\n",
       "    </tr>\n",
       "    <tr>\n",
       "      <th>8218</th>\n",
       "      <td>Zimbabwe</td>\n",
       "      <td>1990</td>\n",
       "      <td>4013.299059</td>\n",
       "    </tr>\n",
       "  </tbody>\n",
       "</table>\n",
       "<p>8219 rows × 3 columns</p>\n",
       "</div>"
      ],
      "text/plain": [
       "          Country  year  GDP_Per_Capita\n",
       "0     Afghanistan  2023     1992.424394\n",
       "1     Afghanistan  2022     1981.710168\n",
       "2     Afghanistan  2021     2144.166570\n",
       "3     Afghanistan  2020     2769.685745\n",
       "4     Afghanistan  2019     2927.245144\n",
       "...           ...   ...             ...\n",
       "8214     Zimbabwe  1994     3965.730986\n",
       "8215     Zimbabwe  1993     3634.750494\n",
       "8216     Zimbabwe  1992     3649.891947\n",
       "8217     Zimbabwe  1991     4126.405247\n",
       "8218     Zimbabwe  1990     4013.299059\n",
       "\n",
       "[8219 rows x 3 columns]"
      ]
     },
     "execution_count": 214,
     "metadata": {},
     "output_type": "execute_result"
    }
   ],
   "source": [
    "GDP_per_Capita_df\n"
   ]
  },
  {
   "cell_type": "code",
   "execution_count": 178,
   "id": "8096f7b8-3abd-4ba5-977a-d926005cc33c",
   "metadata": {},
   "outputs": [],
   "source": [
    "decades=[1990,2000,2010,2020]"
   ]
  },
  {
   "cell_type": "code",
   "execution_count": 215,
   "id": "2f032e91-4349-4713-99e7-076f98fb2e18",
   "metadata": {},
   "outputs": [],
   "source": [
    "gdp_decades = GDP_per_Capita_df.loc[GDP_per_Capita['year'].isin(decades)]"
   ]
  },
  {
   "cell_type": "code",
   "execution_count": 183,
   "id": "f20741ac-6741-427d-ae29-4c907deadd63",
   "metadata": {},
   "outputs": [
    {
     "data": {
      "text/html": [
       "<div>\n",
       "<style scoped>\n",
       "    .dataframe tbody tr th:only-of-type {\n",
       "        vertical-align: middle;\n",
       "    }\n",
       "\n",
       "    .dataframe tbody tr th {\n",
       "        vertical-align: top;\n",
       "    }\n",
       "\n",
       "    .dataframe thead th {\n",
       "        text-align: right;\n",
       "    }\n",
       "</style>\n",
       "<table border=\"1\" class=\"dataframe\">\n",
       "  <thead>\n",
       "    <tr style=\"text-align: right;\">\n",
       "      <th></th>\n",
       "      <th>Country</th>\n",
       "      <th>year</th>\n",
       "      <th>GDP_Per_Capita</th>\n",
       "    </tr>\n",
       "  </thead>\n",
       "  <tbody>\n",
       "    <tr>\n",
       "      <th>3</th>\n",
       "      <td>Afghanistan</td>\n",
       "      <td>2020</td>\n",
       "      <td>2769.685745</td>\n",
       "    </tr>\n",
       "    <tr>\n",
       "      <th>13</th>\n",
       "      <td>Afghanistan</td>\n",
       "      <td>2010</td>\n",
       "      <td>2848.586061</td>\n",
       "    </tr>\n",
       "    <tr>\n",
       "      <th>23</th>\n",
       "      <td>Afghanistan</td>\n",
       "      <td>2000</td>\n",
       "      <td>1617.826475</td>\n",
       "    </tr>\n",
       "    <tr>\n",
       "      <th>27</th>\n",
       "      <td>Africa Eastern and Southern</td>\n",
       "      <td>2020</td>\n",
       "      <td>3861.111238</td>\n",
       "    </tr>\n",
       "    <tr>\n",
       "      <th>37</th>\n",
       "      <td>Africa Eastern and Southern</td>\n",
       "      <td>2010</td>\n",
       "      <td>3863.836012</td>\n",
       "    </tr>\n",
       "  </tbody>\n",
       "</table>\n",
       "</div>"
      ],
      "text/plain": [
       "                        Country  year  GDP_Per_Capita\n",
       "3                   Afghanistan  2020     2769.685745\n",
       "13                  Afghanistan  2010     2848.586061\n",
       "23                  Afghanistan  2000     1617.826475\n",
       "27  Africa Eastern and Southern  2020     3861.111238\n",
       "37  Africa Eastern and Southern  2010     3863.836012"
      ]
     },
     "execution_count": 183,
     "metadata": {},
     "output_type": "execute_result"
    }
   ],
   "source": [
    "gdp_decades.head()"
   ]
  },
  {
   "cell_type": "code",
   "execution_count": 216,
   "id": "6bef254c-36f8-4a03-8296-ee84809a40a1",
   "metadata": {},
   "outputs": [
    {
     "data": {
      "text/plain": [
       "(965, 3)"
      ]
     },
     "execution_count": 216,
     "metadata": {},
     "output_type": "execute_result"
    }
   ],
   "source": [
    "gdp_decades = gdp_decades.reset_index(drop = True)\n",
    "gdp_decades.shape"
   ]
  },
  {
   "cell_type": "code",
   "execution_count": 217,
   "id": "52096c9c-38de-4fb6-b718-cb8102fd923f",
   "metadata": {},
   "outputs": [
    {
     "data": {
      "text/plain": [
       "<Axes: xlabel='year', ylabel='GDP_Per_Capita'>"
      ]
     },
     "execution_count": 217,
     "metadata": {},
     "output_type": "execute_result"
    },
    {
     "data": {
      "image/png": "[encoded data removed]",
      "text/plain": [
       "<Figure size 640x480 with 1 Axes>"
      ]
     },
     "metadata": {},
     "output_type": "display_data"
    }
   ],
   "source": [
    "sns.boxplot(data = gdp_decades,x= 'year', y= 'GDP_Per_Capita')\n",
    "## "
   ]
  },
  {
   "cell_type": "code",
   "execution_count": 218,
   "id": "67a762c6-1523-40cd-95ea-c1641e4c20fa",
   "metadata": {},
   "outputs": [
    {
     "data": {
      "text/plain": [
       "<Axes: xlabel='year', ylabel='GDP_Per_Capita'>"
      ]
     },
     "execution_count": 218,
     "metadata": {},
     "output_type": "execute_result"
    },
    {
     "data": {
      "image/png": "[encoded data removed]",
      "text/plain": [
       "<Figure size 640x480 with 1 Axes>"
      ]
     },
     "metadata": {},
     "output_type": "display_data"
    }
   ],
   "source": [
    "sns.barplot (x = 'year', y ='GDP_Per_Capita',data =gdp_decades)\n",
    "## black lines are error bars."
   ]
  },
  {
   "cell_type": "code",
   "execution_count": 219,
   "id": "20c665d9-2490-4ea7-a10b-31551de2b270",
   "metadata": {},
   "outputs": [
    {
     "data": {
      "text/plain": [
       "<Axes: xlabel='year', ylabel='GDP_Per_Capita'>"
      ]
     },
     "execution_count": 219,
     "metadata": {},
     "output_type": "execute_result"
    },
    {
     "data": {
      "image/png": "[encoded data removed]",
      "text/plain": [
       "<Figure size 640x480 with 1 Axes>"
      ]
     },
     "metadata": {},
     "output_type": "display_data"
    }
   ],
   "source": [
    "sns.scatterplot(data = gdp_decades,x = \"year\",y = \"GDP_Per_Capita\")\n",
    "## each dot is the one observation."
   ]
  },
  {
   "cell_type": "code",
   "execution_count": 220,
   "id": "75336702-0a4e-4a41-99bc-0e03425fd63e",
   "metadata": {},
   "outputs": [
    {
     "data": {
      "image/png": "[encoded data removed]",
      "text/plain": [
       "<Figure size 640x480 with 1 Axes>"
      ]
     },
     "metadata": {},
     "output_type": "display_data"
    }
   ],
   "source": [
    "sns.regplot(data = gdp_decades,x = \"year\",y = \"GDP_Per_Capita\",scatter_kws= {'color':'grey','alpha' :0.4});\n",
    "## color get the darker more dennsity there."
   ]
  },
  {
   "cell_type": "code",
   "execution_count": 221,
   "id": "82c043e8-c1d2-4173-8cf2-ec715b965f45",
   "metadata": {},
   "outputs": [
    {
     "data": {
      "text/plain": [
       "<Axes: xlabel='year', ylabel='GDP_Per_Capita'>"
      ]
     },
     "execution_count": 221,
     "metadata": {},
     "output_type": "execute_result"
    },
    {
     "data": {
      "image/png": "[encoded data removed]",
      "text/plain": [
       "<Figure size 640x480 with 1 Axes>"
      ]
     },
     "metadata": {},
     "output_type": "display_data"
    }
   ],
   "source": [
    "sns.regplot(data = gdp_decades,x = \"year\",y = \"GDP_Per_Capita\",scatter_kws= {'color':'coral','alpha' :0.3},x_jitter =True)"
   ]
  },
  {
   "cell_type": "code",
   "execution_count": 222,
   "id": "4593f062-e8e2-41c1-aa75-c8a35a140b7a",
   "metadata": {},
   "outputs": [
    {
     "data": {
      "image/png": "[encoded data removed]",
      "text/plain": [
       "<Figure size 800x600 with 1 Axes>"
      ]
     },
     "metadata": {},
     "output_type": "display_data"
    }
   ],
   "source": [
    "fig, ax = plt.subplots(figsize=(8, 6))\n",
    "sns.regplot(\n",
    "    x=gdp_decades[\"year\"],\n",
    "    y=gdp_decades[\"GDP_Per_Capita\"],\n",
    "    line_kws={\"color\": \"red\", \"linewidth\": 1.5},\n",
    "ax=ax\n",
    ")\n",
    "plt.show()"
   ]
  },
  {
   "cell_type": "markdown",
   "id": "68a24dea-59e2-4b78-9f92-283f1ba02da5",
   "metadata": {},
   "source": [
    "### 11. Which country was the first to have a GDP per capita greater than $100,000?\n"
   ]
  },
  {
   "cell_type": "code",
   "execution_count": 233,
   "id": "7a22e289-cf4c-4772-8ad0-4a3efef3b617",
   "metadata": {},
   "outputs": [
    {
     "data": {
      "text/plain": [
       "974                   Brunei\n",
       "7827    United Arab Emirates\n",
       "Name: Country, dtype: object"
      ]
     },
     "execution_count": 233,
     "metadata": {},
     "output_type": "execute_result"
    }
   ],
   "source": [
    "GDP_per_Capita_df.loc[GDP_per_Capita_df.GDP_Per_Capita > 100000].sort_values('year').head(2).Country"
   ]
  },
  {
   "cell_type": "markdown",
   "id": "05079456-b5b0-43fa-a2d4-2a70aa623f7c",
   "metadata": {},
   "source": [
    "### 12. Which country had the highest GDP per capita in 2020? Create a plot showing how this country's GDP per capita has changed over the timespan of the dataset."
   ]
  },
  {
   "cell_type": "code",
   "execution_count": 239,
   "id": "834009af-883d-4488-a18e-f8cd1a571b42",
   "metadata": {},
   "outputs": [
    {
     "data": {
      "text/plain": [
       "4426    Luxembourg\n",
       "Name: Country, dtype: object"
      ]
     },
     "execution_count": 239,
     "metadata": {},
     "output_type": "execute_result"
    }
   ],
   "source": [
    "top_country = gdp_2020.sort_values('GDP_Per_Capita',ascending = False).Country.head(1)\n",
    "top_country"
   ]
  },
  {
   "cell_type": "code",
   "execution_count": 244,
   "id": "1bc59379-3720-48b0-a799-385d55e0c40c",
   "metadata": {},
   "outputs": [],
   "source": [
    "top_over_time = GDP_per_Capita_df.loc[GDP_per_Capita_df.Country.isin(top_country )]\n"
   ]
  },
  {
   "cell_type": "code",
   "execution_count": 245,
   "id": "93bffb96-7ac1-488c-b149-b3e26a90e033",
   "metadata": {},
   "outputs": [
    {
     "data": {
      "text/plain": [
       "(0.0, 140665.11597513943)"
      ]
     },
     "execution_count": 245,
     "metadata": {},
     "output_type": "execute_result"
    },
    {
     "data": {
      "image/png": "[encoded data removed]",
      "text/plain": [
       "<Figure size 640x480 with 1 Axes>"
      ]
     },
     "metadata": {},
     "output_type": "display_data"
    }
   ],
   "source": [
    "sns.lineplot(data= top_over_time,x ='year',y = 'GDP_Per_Capita')\n",
    "plt.ylim(bottom = 0)\n"
   ]
  },
  {
   "cell_type": "code",
   "execution_count": 252,
   "id": "d2dec321-6d74-43ba-9484-283708ce92b8",
   "metadata": {},
   "outputs": [],
   "source": [
    "lowest_gdp = gdp_2020.sort_values('GDP_Per_Capita').Country.head(1)"
   ]
  },
  {
   "cell_type": "code",
   "execution_count": 255,
   "id": "ad926617-2acf-4028-86f0-dbbe3eb0741b",
   "metadata": {},
   "outputs": [],
   "source": [
    "lowest_over_time = GDP_per_Capita_df.loc[GDP_per_Capita_df.Country.isin(lowest_gdp)]\n"
   ]
  },
  {
   "cell_type": "code",
   "execution_count": 257,
   "id": "4777ddf6-b6ac-43a1-a913-a59c3fec9d9e",
   "metadata": {},
   "outputs": [
    {
     "data": {
      "text/plain": [
       "(0.0, 1466.1674858591664)"
      ]
     },
     "execution_count": 257,
     "metadata": {},
     "output_type": "execute_result"
    },
    {
     "data": {
      "image/png": "[encoded data removed]",
      "text/plain": [
       "<Figure size 640x480 with 1 Axes>"
      ]
     },
     "metadata": {},
     "output_type": "display_data"
    }
   ],
   "source": [
    "sns.lineplot(data = lowest_over_time,x = 'year',y = 'GDP_Per_Capita')\n",
    "plt.ylim(bottom =0)"
   ]
  },
  {
   "cell_type": "code",
   "execution_count": 46,
   "id": "f64aac47-86fe-4fcb-af7a-0400004cd0fb",
   "metadata": {},
   "outputs": [
    {
     "data": {
      "text/html": [
       "<div>\n",
       "<style scoped>\n",
       "    .dataframe tbody tr th:only-of-type {\n",
       "        vertical-align: middle;\n",
       "    }\n",
       "\n",
       "    .dataframe tbody tr th {\n",
       "        vertical-align: top;\n",
       "    }\n",
       "\n",
       "    .dataframe thead th {\n",
       "        text-align: right;\n",
       "    }\n",
       "</style>\n",
       "<table border=\"1\" class=\"dataframe\">\n",
       "  <thead>\n",
       "    <tr style=\"text-align: right;\">\n",
       "      <th></th>\n",
       "      <th>Country or Area</th>\n",
       "      <th>Year</th>\n",
       "      <th>Value</th>\n",
       "      <th>Value Footnotes</th>\n",
       "    </tr>\n",
       "  </thead>\n",
       "  <tbody>\n",
       "    <tr>\n",
       "      <th>0</th>\n",
       "      <td>Afghanistan</td>\n",
       "      <td>2019</td>\n",
       "      <td>17.60</td>\n",
       "      <td>1</td>\n",
       "    </tr>\n",
       "    <tr>\n",
       "      <th>1</th>\n",
       "      <td>Afghanistan</td>\n",
       "      <td>2018</td>\n",
       "      <td>16.80</td>\n",
       "      <td>2</td>\n",
       "    </tr>\n",
       "    <tr>\n",
       "      <th>2</th>\n",
       "      <td>Afghanistan</td>\n",
       "      <td>2017</td>\n",
       "      <td>13.50</td>\n",
       "      <td>3</td>\n",
       "    </tr>\n",
       "    <tr>\n",
       "      <th>3</th>\n",
       "      <td>Afghanistan</td>\n",
       "      <td>2016</td>\n",
       "      <td>11.00</td>\n",
       "      <td>4</td>\n",
       "    </tr>\n",
       "    <tr>\n",
       "      <th>4</th>\n",
       "      <td>Afghanistan</td>\n",
       "      <td>2015</td>\n",
       "      <td>8.26</td>\n",
       "      <td>4</td>\n",
       "    </tr>\n",
       "  </tbody>\n",
       "</table>\n",
       "</div>"
      ],
      "text/plain": [
       "  Country or Area  Year  Value Value Footnotes\n",
       "0     Afghanistan  2019  17.60               1\n",
       "1     Afghanistan  2018  16.80               2\n",
       "2     Afghanistan  2017  13.50               3\n",
       "3     Afghanistan  2016  11.00               4\n",
       "4     Afghanistan  2015   8.26               4"
      ]
     },
     "execution_count": 46,
     "metadata": {},
     "output_type": "execute_result"
    }
   ],
   "source": [
    "internet_df = pd.read_csv(\"../data/internet_use.csv\",nrows =6083)\n",
    "internet_df.head()"
   ]
  },
  {
   "cell_type": "code",
   "execution_count": 47,
   "id": "30bfca54-2a44-49ee-ab4c-d24ff3a6e02c",
   "metadata": {},
   "outputs": [],
   "source": [
    "internet_df = internet_df.drop(columns = 'Value Footnotes')"
   ]
  },
  {
   "cell_type": "code",
   "execution_count": 48,
   "id": "7586fb99-62ce-4d3b-ab35-10ff7a2bfddb",
   "metadata": {},
   "outputs": [
    {
     "data": {
      "text/html": [
       "<div>\n",
       "<style scoped>\n",
       "    .dataframe tbody tr th:only-of-type {\n",
       "        vertical-align: middle;\n",
       "    }\n",
       "\n",
       "    .dataframe tbody tr th {\n",
       "        vertical-align: top;\n",
       "    }\n",
       "\n",
       "    .dataframe thead th {\n",
       "        text-align: right;\n",
       "    }\n",
       "</style>\n",
       "<table border=\"1\" class=\"dataframe\">\n",
       "  <thead>\n",
       "    <tr style=\"text-align: right;\">\n",
       "      <th></th>\n",
       "      <th>Country or Area</th>\n",
       "      <th>Year</th>\n",
       "      <th>Value</th>\n",
       "    </tr>\n",
       "  </thead>\n",
       "  <tbody>\n",
       "    <tr>\n",
       "      <th>0</th>\n",
       "      <td>Afghanistan</td>\n",
       "      <td>2019</td>\n",
       "      <td>17.60</td>\n",
       "    </tr>\n",
       "    <tr>\n",
       "      <th>1</th>\n",
       "      <td>Afghanistan</td>\n",
       "      <td>2018</td>\n",
       "      <td>16.80</td>\n",
       "    </tr>\n",
       "    <tr>\n",
       "      <th>2</th>\n",
       "      <td>Afghanistan</td>\n",
       "      <td>2017</td>\n",
       "      <td>13.50</td>\n",
       "    </tr>\n",
       "    <tr>\n",
       "      <th>3</th>\n",
       "      <td>Afghanistan</td>\n",
       "      <td>2016</td>\n",
       "      <td>11.00</td>\n",
       "    </tr>\n",
       "    <tr>\n",
       "      <th>4</th>\n",
       "      <td>Afghanistan</td>\n",
       "      <td>2015</td>\n",
       "      <td>8.26</td>\n",
       "    </tr>\n",
       "  </tbody>\n",
       "</table>\n",
       "</div>"
      ],
      "text/plain": [
       "  Country or Area  Year  Value\n",
       "0     Afghanistan  2019  17.60\n",
       "1     Afghanistan  2018  16.80\n",
       "2     Afghanistan  2017  13.50\n",
       "3     Afghanistan  2016  11.00\n",
       "4     Afghanistan  2015   8.26"
      ]
     },
     "execution_count": 48,
     "metadata": {},
     "output_type": "execute_result"
    }
   ],
   "source": [
    "internet_df.head()"
   ]
  },
  {
   "cell_type": "code",
   "execution_count": 49,
   "id": "8330478f-4d43-4799-afc8-330efcd8a077",
   "metadata": {},
   "outputs": [
    {
     "data": {
      "text/html": [
       "<div>\n",
       "<style scoped>\n",
       "    .dataframe tbody tr th:only-of-type {\n",
       "        vertical-align: middle;\n",
       "    }\n",
       "\n",
       "    .dataframe tbody tr th {\n",
       "        vertical-align: top;\n",
       "    }\n",
       "\n",
       "    .dataframe thead th {\n",
       "        text-align: right;\n",
       "    }\n",
       "</style>\n",
       "<table border=\"1\" class=\"dataframe\">\n",
       "  <thead>\n",
       "    <tr style=\"text-align: right;\">\n",
       "      <th></th>\n",
       "      <th>Country or Area</th>\n",
       "      <th>Year</th>\n",
       "      <th>Value</th>\n",
       "    </tr>\n",
       "  </thead>\n",
       "  <tbody>\n",
       "    <tr>\n",
       "      <th>6078</th>\n",
       "      <td>Zimbabwe</td>\n",
       "      <td>1997</td>\n",
       "      <td>0.033080</td>\n",
       "    </tr>\n",
       "    <tr>\n",
       "      <th>6079</th>\n",
       "      <td>Zimbabwe</td>\n",
       "      <td>1996</td>\n",
       "      <td>0.016790</td>\n",
       "    </tr>\n",
       "    <tr>\n",
       "      <th>6080</th>\n",
       "      <td>Zimbabwe</td>\n",
       "      <td>1995</td>\n",
       "      <td>0.007684</td>\n",
       "    </tr>\n",
       "    <tr>\n",
       "      <th>6081</th>\n",
       "      <td>Zimbabwe</td>\n",
       "      <td>1994</td>\n",
       "      <td>0.001739</td>\n",
       "    </tr>\n",
       "    <tr>\n",
       "      <th>6082</th>\n",
       "      <td>Zimbabwe</td>\n",
       "      <td>1990</td>\n",
       "      <td>0.000000</td>\n",
       "    </tr>\n",
       "  </tbody>\n",
       "</table>\n",
       "</div>"
      ],
      "text/plain": [
       "     Country or Area  Year     Value\n",
       "6078        Zimbabwe  1997  0.033080\n",
       "6079        Zimbabwe  1996  0.016790\n",
       "6080        Zimbabwe  1995  0.007684\n",
       "6081        Zimbabwe  1994  0.001739\n",
       "6082        Zimbabwe  1990  0.000000"
      ]
     },
     "execution_count": 49,
     "metadata": {},
     "output_type": "execute_result"
    }
   ],
   "source": [
    "internet_df.tail()"
   ]
  },
  {
   "cell_type": "code",
   "execution_count": 50,
   "id": "7dc09e4c-a507-47c0-89ac-3fb7b472057a",
   "metadata": {},
   "outputs": [],
   "source": [
    "internet_df.columns =['Country','Year','Internet_Users_Pct']"
   ]
  },
  {
   "cell_type": "code",
   "execution_count": 51,
   "id": "e4fa29e7-6192-482c-a99d-1a2f89c6d5e1",
   "metadata": {},
   "outputs": [
    {
     "data": {
      "text/html": [
       "<div>\n",
       "<style scoped>\n",
       "    .dataframe tbody tr th:only-of-type {\n",
       "        vertical-align: middle;\n",
       "    }\n",
       "\n",
       "    .dataframe tbody tr th {\n",
       "        vertical-align: top;\n",
       "    }\n",
       "\n",
       "    .dataframe thead th {\n",
       "        text-align: right;\n",
       "    }\n",
       "</style>\n",
       "<table border=\"1\" class=\"dataframe\">\n",
       "  <thead>\n",
       "    <tr style=\"text-align: right;\">\n",
       "      <th></th>\n",
       "      <th>Country</th>\n",
       "      <th>Year</th>\n",
       "      <th>Internet_Users_Pct</th>\n",
       "    </tr>\n",
       "  </thead>\n",
       "  <tbody>\n",
       "    <tr>\n",
       "      <th>0</th>\n",
       "      <td>Afghanistan</td>\n",
       "      <td>2019</td>\n",
       "      <td>17.600000</td>\n",
       "    </tr>\n",
       "    <tr>\n",
       "      <th>1</th>\n",
       "      <td>Afghanistan</td>\n",
       "      <td>2018</td>\n",
       "      <td>16.800000</td>\n",
       "    </tr>\n",
       "    <tr>\n",
       "      <th>2</th>\n",
       "      <td>Afghanistan</td>\n",
       "      <td>2017</td>\n",
       "      <td>13.500000</td>\n",
       "    </tr>\n",
       "    <tr>\n",
       "      <th>3</th>\n",
       "      <td>Afghanistan</td>\n",
       "      <td>2016</td>\n",
       "      <td>11.000000</td>\n",
       "    </tr>\n",
       "    <tr>\n",
       "      <th>4</th>\n",
       "      <td>Afghanistan</td>\n",
       "      <td>2015</td>\n",
       "      <td>8.260000</td>\n",
       "    </tr>\n",
       "    <tr>\n",
       "      <th>...</th>\n",
       "      <td>...</td>\n",
       "      <td>...</td>\n",
       "      <td>...</td>\n",
       "    </tr>\n",
       "    <tr>\n",
       "      <th>6078</th>\n",
       "      <td>Zimbabwe</td>\n",
       "      <td>1997</td>\n",
       "      <td>0.033080</td>\n",
       "    </tr>\n",
       "    <tr>\n",
       "      <th>6079</th>\n",
       "      <td>Zimbabwe</td>\n",
       "      <td>1996</td>\n",
       "      <td>0.016790</td>\n",
       "    </tr>\n",
       "    <tr>\n",
       "      <th>6080</th>\n",
       "      <td>Zimbabwe</td>\n",
       "      <td>1995</td>\n",
       "      <td>0.007684</td>\n",
       "    </tr>\n",
       "    <tr>\n",
       "      <th>6081</th>\n",
       "      <td>Zimbabwe</td>\n",
       "      <td>1994</td>\n",
       "      <td>0.001739</td>\n",
       "    </tr>\n",
       "    <tr>\n",
       "      <th>6082</th>\n",
       "      <td>Zimbabwe</td>\n",
       "      <td>1990</td>\n",
       "      <td>0.000000</td>\n",
       "    </tr>\n",
       "  </tbody>\n",
       "</table>\n",
       "<p>6083 rows × 3 columns</p>\n",
       "</div>"
      ],
      "text/plain": [
       "          Country  Year  Internet_Users_Pct\n",
       "0     Afghanistan  2019           17.600000\n",
       "1     Afghanistan  2018           16.800000\n",
       "2     Afghanistan  2017           13.500000\n",
       "3     Afghanistan  2016           11.000000\n",
       "4     Afghanistan  2015            8.260000\n",
       "...           ...   ...                 ...\n",
       "6078     Zimbabwe  1997            0.033080\n",
       "6079     Zimbabwe  1996            0.016790\n",
       "6080     Zimbabwe  1995            0.007684\n",
       "6081     Zimbabwe  1994            0.001739\n",
       "6082     Zimbabwe  1990            0.000000\n",
       "\n",
       "[6083 rows x 3 columns]"
      ]
     },
     "execution_count": 51,
     "metadata": {},
     "output_type": "execute_result"
    }
   ],
   "source": [
    "internet_df"
   ]
  },
  {
   "cell_type": "code",
   "execution_count": 52,
   "id": "4a943c02-974e-4041-b985-a6dd332ecd91",
   "metadata": {},
   "outputs": [
    {
     "data": {
      "text/html": [
       "<div>\n",
       "<style scoped>\n",
       "    .dataframe tbody tr th:only-of-type {\n",
       "        vertical-align: middle;\n",
       "    }\n",
       "\n",
       "    .dataframe tbody tr th {\n",
       "        vertical-align: top;\n",
       "    }\n",
       "\n",
       "    .dataframe thead th {\n",
       "        text-align: right;\n",
       "    }\n",
       "</style>\n",
       "<table border=\"1\" class=\"dataframe\">\n",
       "  <thead>\n",
       "    <tr style=\"text-align: right;\">\n",
       "      <th></th>\n",
       "      <th>Country</th>\n",
       "      <th>Year</th>\n",
       "      <th>Internet_Users_Pct</th>\n",
       "    </tr>\n",
       "  </thead>\n",
       "  <tbody>\n",
       "    <tr>\n",
       "      <th>0</th>\n",
       "      <td>Afghanistan</td>\n",
       "      <td>2019</td>\n",
       "      <td>17.60</td>\n",
       "    </tr>\n",
       "    <tr>\n",
       "      <th>1</th>\n",
       "      <td>Afghanistan</td>\n",
       "      <td>2018</td>\n",
       "      <td>16.80</td>\n",
       "    </tr>\n",
       "    <tr>\n",
       "      <th>2</th>\n",
       "      <td>Afghanistan</td>\n",
       "      <td>2017</td>\n",
       "      <td>13.50</td>\n",
       "    </tr>\n",
       "    <tr>\n",
       "      <th>3</th>\n",
       "      <td>Afghanistan</td>\n",
       "      <td>2016</td>\n",
       "      <td>11.00</td>\n",
       "    </tr>\n",
       "    <tr>\n",
       "      <th>4</th>\n",
       "      <td>Afghanistan</td>\n",
       "      <td>2015</td>\n",
       "      <td>8.26</td>\n",
       "    </tr>\n",
       "  </tbody>\n",
       "</table>\n",
       "</div>"
      ],
      "text/plain": [
       "       Country  Year  Internet_Users_Pct\n",
       "0  Afghanistan  2019               17.60\n",
       "1  Afghanistan  2018               16.80\n",
       "2  Afghanistan  2017               13.50\n",
       "3  Afghanistan  2016               11.00\n",
       "4  Afghanistan  2015                8.26"
      ]
     },
     "execution_count": 52,
     "metadata": {},
     "output_type": "execute_result"
    }
   ],
   "source": [
    "internet_df.head()"
   ]
  },
  {
   "cell_type": "markdown",
   "id": "65a2ee8f-3732-445a-9327-48f6e55a2e44",
   "metadata": {},
   "source": [
    "### 16. Look at the number of observations in this dataset per year. What do you notice?"
   ]
  },
  {
   "cell_type": "code",
   "execution_count": 53,
   "id": "177977a7-a55c-40f0-918e-f8eb1358c5cc",
   "metadata": {},
   "outputs": [
    {
     "data": {
      "text/plain": [
       "Year\n",
       "1990    226\n",
       "2007    217\n",
       "2002    214\n",
       "2008    214\n",
       "2009    214\n",
       "2011    214\n",
       "2001    212\n",
       "2006    212\n",
       "2005    212\n",
       "2000    210\n",
       "2004    210\n",
       "2012    209\n",
       "2010    209\n",
       "2003    208\n",
       "1999    207\n",
       "2016    206\n",
       "2017    205\n",
       "2014    204\n",
       "2015    203\n",
       "2013    203\n",
       "1998    195\n",
       "1997    188\n",
       "2020    186\n",
       "2021    186\n",
       "2019    185\n",
       "2022    184\n",
       "1996    177\n",
       "2018    174\n",
       "1995    141\n",
       "1994     92\n",
       "1993     66\n",
       "1992     50\n",
       "1991     39\n",
       "2023     11\n",
       "Name: count, dtype: int64"
      ]
     },
     "execution_count": 53,
     "metadata": {},
     "output_type": "execute_result"
    }
   ],
   "source": [
    "internet_df.Year.value_counts()"
   ]
  },
  {
   "cell_type": "markdown",
   "id": "13241140-cdac-48ea-8e7b-6726c9e78f19",
   "metadata": {},
   "source": [
    "### 17. What is the first year to have a non-zero internet users percentage value?"
   ]
  },
  {
   "cell_type": "code",
   "execution_count": 54,
   "id": "d4b8477b-39ad-4a5b-9fbc-e19ff23a40d0",
   "metadata": {},
   "outputs": [
    {
     "data": {
      "text/plain": [
       "1990"
      ]
     },
     "execution_count": 54,
     "metadata": {},
     "output_type": "execute_result"
    }
   ],
   "source": [
    "first_year = internet_df.loc[internet_df.Internet_Users_Pct >0]['Year'].min()\n",
    "first_year"
   ]
  },
  {
   "cell_type": "markdown",
   "id": "120c0980-09aa-4478-a114-99164f62bfc4",
   "metadata": {},
   "source": [
    "### 18. How does the distribution of internet users percent differ for 2000 and 2014?"
   ]
  },
  {
   "cell_type": "code",
   "execution_count": 258,
   "id": "3d7a1d14-3943-430a-9f27-190b83451604",
   "metadata": {},
   "outputs": [],
   "source": [
    "internet_years =[ 2000,2014]"
   ]
  },
  {
   "cell_type": "code",
   "execution_count": 262,
   "id": "199f9a1c-5e85-4057-a6ba-0d37be0e85fb",
   "metadata": {},
   "outputs": [],
   "source": [
    "internet_2000_14 = internet_df.loc[internet_df.year.isin(internet_years)]"
   ]
  },
  {
   "cell_type": "code",
   "execution_count": 264,
   "id": "45293cd7-2a94-4c6a-aaa9-ce9bba54c6d7",
   "metadata": {},
   "outputs": [
    {
     "data": {
      "text/plain": [
       "<Axes: >"
      ]
     },
     "execution_count": 264,
     "metadata": {},
     "output_type": "execute_result"
    },
    {
     "data": {
      "image/png": "[encoded data removed]",
      "text/plain": [
       "<Figure size 640x480 with 1 Axes>"
      ]
     },
     "metadata": {},
     "output_type": "display_data"
    }
   ],
   "source": [
    "internet_2000_14['Internet_Users_Pct'].hist()"
   ]
  },
  {
   "cell_type": "code",
   "execution_count": 267,
   "id": "f3684a80-5da5-47d1-9da0-d3f0e7cd4b9d",
   "metadata": {},
   "outputs": [
    {
     "data": {
      "image/png": "[encoded data removed]",
      "text/plain": [
       "<Figure size 640x480 with 1 Axes>"
      ]
     },
     "metadata": {},
     "output_type": "display_data"
    }
   ],
   "source": [
    "sns.boxplot(data = internet_2000_14,x = 'year', y='Internet_Users_Pct');"
   ]
  },
  {
   "cell_type": "markdown",
   "id": "8bfa2981-f480-4cab-9423-f559e7773cd9",
   "metadata": {},
   "source": [
    "### 19. For how many countries was the percentage of internet users below 5% in 2014?"
   ]
  },
  {
   "cell_type": "code",
   "execution_count": 60,
   "id": "ecfbec18-93cd-4477-bdad-07bacd3590a3",
   "metadata": {},
   "outputs": [
    {
     "data": {
      "text/plain": [
       "4.901960784313726"
      ]
     },
     "execution_count": 60,
     "metadata": {},
     "output_type": "execute_result"
    }
   ],
   "source": [
    "len(year_2014.loc[year_2014.Internet_Users_Pct<5])/len(year_2014)*100\n",
    "\n",
    "\n"
   ]
  },
  {
   "cell_type": "code",
   "execution_count": 61,
   "id": "89891c20-8c07-44ab-b680-c6385a6118f0",
   "metadata": {},
   "outputs": [
    {
     "data": {
      "text/html": [
       "<div>\n",
       "<style scoped>\n",
       "    .dataframe tbody tr th:only-of-type {\n",
       "        vertical-align: middle;\n",
       "    }\n",
       "\n",
       "    .dataframe tbody tr th {\n",
       "        vertical-align: top;\n",
       "    }\n",
       "\n",
       "    .dataframe thead th {\n",
       "        text-align: right;\n",
       "    }\n",
       "</style>\n",
       "<table border=\"1\" class=\"dataframe\">\n",
       "  <thead>\n",
       "    <tr style=\"text-align: right;\">\n",
       "      <th></th>\n",
       "      <th>Country</th>\n",
       "      <th>Year</th>\n",
       "      <th>Internet_Users_Pct</th>\n",
       "    </tr>\n",
       "  </thead>\n",
       "  <tbody>\n",
       "    <tr>\n",
       "      <th>873</th>\n",
       "      <td>Burundi</td>\n",
       "      <td>2014</td>\n",
       "      <td>1.04239</td>\n",
       "    </tr>\n",
       "    <tr>\n",
       "      <th>1033</th>\n",
       "      <td>Central African Republic</td>\n",
       "      <td>2014</td>\n",
       "      <td>2.70000</td>\n",
       "    </tr>\n",
       "    <tr>\n",
       "      <th>1061</th>\n",
       "      <td>Chad</td>\n",
       "      <td>2014</td>\n",
       "      <td>2.90000</td>\n",
       "    </tr>\n",
       "    <tr>\n",
       "      <th>1517</th>\n",
       "      <td>Democratic Republic of the Congo</td>\n",
       "      <td>2014</td>\n",
       "      <td>3.00000</td>\n",
       "    </tr>\n",
       "    <tr>\n",
       "      <th>1782</th>\n",
       "      <td>Eritrea</td>\n",
       "      <td>2014</td>\n",
       "      <td>0.99000</td>\n",
       "    </tr>\n",
       "    <tr>\n",
       "      <th>2451</th>\n",
       "      <td>Guinea-Bissau</td>\n",
       "      <td>2014</td>\n",
       "      <td>3.32000</td>\n",
       "    </tr>\n",
       "    <tr>\n",
       "      <th>3364</th>\n",
       "      <td>Madagascar</td>\n",
       "      <td>2014</td>\n",
       "      <td>3.70000</td>\n",
       "    </tr>\n",
       "    <tr>\n",
       "      <th>4073</th>\n",
       "      <td>Niger</td>\n",
       "      <td>2014</td>\n",
       "      <td>1.24868</td>\n",
       "    </tr>\n",
       "    <tr>\n",
       "      <th>5055</th>\n",
       "      <td>Somalia</td>\n",
       "      <td>2014</td>\n",
       "      <td>1.63000</td>\n",
       "    </tr>\n",
       "    <tr>\n",
       "      <th>5116</th>\n",
       "      <td>South Sudan</td>\n",
       "      <td>2014</td>\n",
       "      <td>2.60000</td>\n",
       "    </tr>\n",
       "  </tbody>\n",
       "</table>\n",
       "</div>"
      ],
      "text/plain": [
       "                               Country  Year  Internet_Users_Pct\n",
       "873                            Burundi  2014             1.04239\n",
       "1033          Central African Republic  2014             2.70000\n",
       "1061                              Chad  2014             2.90000\n",
       "1517  Democratic Republic of the Congo  2014             3.00000\n",
       "1782                           Eritrea  2014             0.99000\n",
       "2451                     Guinea-Bissau  2014             3.32000\n",
       "3364                        Madagascar  2014             3.70000\n",
       "4073                             Niger  2014             1.24868\n",
       "5055                           Somalia  2014             1.63000\n",
       "5116                       South Sudan  2014             2.60000"
      ]
     },
     "execution_count": 61,
     "metadata": {},
     "output_type": "execute_result"
    }
   ],
   "source": [
    "internet_below_5_2014 = year_2014.loc[year_2014.Internet_Users_Pct<5]\n",
    "internet_below_5_2014\n"
   ]
  },
  {
   "cell_type": "markdown",
   "id": "4c4a2fb8-7038-4ac3-8de9-3368308bfab0",
   "metadata": {},
   "source": [
    "### 20. Merge the two DataFrames to one. Do this in a way that keeps **all rows** from each of the two DataFrames. Call the new DataFrame `gdp_and_internet_use`. Look at the first and last few rows to confirm that it merged correctly."
   ]
  },
  {
   "cell_type": "code",
   "execution_count": 62,
   "id": "fe3ee8e5-4273-41dd-8aa2-6a59b6bb60f8",
   "metadata": {},
   "outputs": [
    {
     "data": {
      "text/html": [
       "<div>\n",
       "<style scoped>\n",
       "    .dataframe tbody tr th:only-of-type {\n",
       "        vertical-align: middle;\n",
       "    }\n",
       "\n",
       "    .dataframe tbody tr th {\n",
       "        vertical-align: top;\n",
       "    }\n",
       "\n",
       "    .dataframe thead th {\n",
       "        text-align: right;\n",
       "    }\n",
       "</style>\n",
       "<table border=\"1\" class=\"dataframe\">\n",
       "  <thead>\n",
       "    <tr style=\"text-align: right;\">\n",
       "      <th></th>\n",
       "      <th>Country</th>\n",
       "      <th>year</th>\n",
       "      <th>Internet_Users_Pct</th>\n",
       "    </tr>\n",
       "  </thead>\n",
       "  <tbody>\n",
       "    <tr>\n",
       "      <th>0</th>\n",
       "      <td>Afghanistan</td>\n",
       "      <td>2019</td>\n",
       "      <td>17.600000</td>\n",
       "    </tr>\n",
       "    <tr>\n",
       "      <th>1</th>\n",
       "      <td>Afghanistan</td>\n",
       "      <td>2018</td>\n",
       "      <td>16.800000</td>\n",
       "    </tr>\n",
       "    <tr>\n",
       "      <th>2</th>\n",
       "      <td>Afghanistan</td>\n",
       "      <td>2017</td>\n",
       "      <td>13.500000</td>\n",
       "    </tr>\n",
       "    <tr>\n",
       "      <th>3</th>\n",
       "      <td>Afghanistan</td>\n",
       "      <td>2016</td>\n",
       "      <td>11.000000</td>\n",
       "    </tr>\n",
       "    <tr>\n",
       "      <th>4</th>\n",
       "      <td>Afghanistan</td>\n",
       "      <td>2015</td>\n",
       "      <td>8.260000</td>\n",
       "    </tr>\n",
       "    <tr>\n",
       "      <th>...</th>\n",
       "      <td>...</td>\n",
       "      <td>...</td>\n",
       "      <td>...</td>\n",
       "    </tr>\n",
       "    <tr>\n",
       "      <th>6078</th>\n",
       "      <td>Zimbabwe</td>\n",
       "      <td>1997</td>\n",
       "      <td>0.033080</td>\n",
       "    </tr>\n",
       "    <tr>\n",
       "      <th>6079</th>\n",
       "      <td>Zimbabwe</td>\n",
       "      <td>1996</td>\n",
       "      <td>0.016790</td>\n",
       "    </tr>\n",
       "    <tr>\n",
       "      <th>6080</th>\n",
       "      <td>Zimbabwe</td>\n",
       "      <td>1995</td>\n",
       "      <td>0.007684</td>\n",
       "    </tr>\n",
       "    <tr>\n",
       "      <th>6081</th>\n",
       "      <td>Zimbabwe</td>\n",
       "      <td>1994</td>\n",
       "      <td>0.001739</td>\n",
       "    </tr>\n",
       "    <tr>\n",
       "      <th>6082</th>\n",
       "      <td>Zimbabwe</td>\n",
       "      <td>1990</td>\n",
       "      <td>0.000000</td>\n",
       "    </tr>\n",
       "  </tbody>\n",
       "</table>\n",
       "<p>6083 rows × 3 columns</p>\n",
       "</div>"
      ],
      "text/plain": [
       "          Country  year  Internet_Users_Pct\n",
       "0     Afghanistan  2019           17.600000\n",
       "1     Afghanistan  2018           16.800000\n",
       "2     Afghanistan  2017           13.500000\n",
       "3     Afghanistan  2016           11.000000\n",
       "4     Afghanistan  2015            8.260000\n",
       "...           ...   ...                 ...\n",
       "6078     Zimbabwe  1997            0.033080\n",
       "6079     Zimbabwe  1996            0.016790\n",
       "6080     Zimbabwe  1995            0.007684\n",
       "6081     Zimbabwe  1994            0.001739\n",
       "6082     Zimbabwe  1990            0.000000\n",
       "\n",
       "[6083 rows x 3 columns]"
      ]
     },
     "execution_count": 62,
     "metadata": {},
     "output_type": "execute_result"
    }
   ],
   "source": [
    "internet_df = internet_df.rename(columns ={ 'Year' : 'year'})\n",
    "internet_df"
   ]
  },
  {
   "cell_type": "code",
   "execution_count": 63,
   "id": "c1a55478-26f1-4011-a9a4-6f3a2f7f9bdc",
   "metadata": {},
   "outputs": [
    {
     "data": {
      "text/html": [
       "<div>\n",
       "<style scoped>\n",
       "    .dataframe tbody tr th:only-of-type {\n",
       "        vertical-align: middle;\n",
       "    }\n",
       "\n",
       "    .dataframe tbody tr th {\n",
       "        vertical-align: top;\n",
       "    }\n",
       "\n",
       "    .dataframe thead th {\n",
       "        text-align: right;\n",
       "    }\n",
       "</style>\n",
       "<table border=\"1\" class=\"dataframe\">\n",
       "  <thead>\n",
       "    <tr style=\"text-align: right;\">\n",
       "      <th></th>\n",
       "      <th>Country</th>\n",
       "      <th>year</th>\n",
       "      <th>GDP_Per_Capita</th>\n",
       "    </tr>\n",
       "  </thead>\n",
       "  <tbody>\n",
       "    <tr>\n",
       "      <th>0</th>\n",
       "      <td>Afghanistan</td>\n",
       "      <td>2023</td>\n",
       "      <td>1992.424394</td>\n",
       "    </tr>\n",
       "    <tr>\n",
       "      <th>1</th>\n",
       "      <td>Afghanistan</td>\n",
       "      <td>2022</td>\n",
       "      <td>1981.710168</td>\n",
       "    </tr>\n",
       "    <tr>\n",
       "      <th>2</th>\n",
       "      <td>Afghanistan</td>\n",
       "      <td>2021</td>\n",
       "      <td>2144.166570</td>\n",
       "    </tr>\n",
       "    <tr>\n",
       "      <th>3</th>\n",
       "      <td>Afghanistan</td>\n",
       "      <td>2020</td>\n",
       "      <td>2769.685745</td>\n",
       "    </tr>\n",
       "    <tr>\n",
       "      <th>4</th>\n",
       "      <td>Afghanistan</td>\n",
       "      <td>2019</td>\n",
       "      <td>2927.245144</td>\n",
       "    </tr>\n",
       "    <tr>\n",
       "      <th>...</th>\n",
       "      <td>...</td>\n",
       "      <td>...</td>\n",
       "      <td>...</td>\n",
       "    </tr>\n",
       "    <tr>\n",
       "      <th>8214</th>\n",
       "      <td>Zimbabwe</td>\n",
       "      <td>1994</td>\n",
       "      <td>3965.730986</td>\n",
       "    </tr>\n",
       "    <tr>\n",
       "      <th>8215</th>\n",
       "      <td>Zimbabwe</td>\n",
       "      <td>1993</td>\n",
       "      <td>3634.750494</td>\n",
       "    </tr>\n",
       "    <tr>\n",
       "      <th>8216</th>\n",
       "      <td>Zimbabwe</td>\n",
       "      <td>1992</td>\n",
       "      <td>3649.891947</td>\n",
       "    </tr>\n",
       "    <tr>\n",
       "      <th>8217</th>\n",
       "      <td>Zimbabwe</td>\n",
       "      <td>1991</td>\n",
       "      <td>4126.405247</td>\n",
       "    </tr>\n",
       "    <tr>\n",
       "      <th>8218</th>\n",
       "      <td>Zimbabwe</td>\n",
       "      <td>1990</td>\n",
       "      <td>4013.299059</td>\n",
       "    </tr>\n",
       "  </tbody>\n",
       "</table>\n",
       "<p>8219 rows × 3 columns</p>\n",
       "</div>"
      ],
      "text/plain": [
       "          Country  year  GDP_Per_Capita\n",
       "0     Afghanistan  2023     1992.424394\n",
       "1     Afghanistan  2022     1981.710168\n",
       "2     Afghanistan  2021     2144.166570\n",
       "3     Afghanistan  2020     2769.685745\n",
       "4     Afghanistan  2019     2927.245144\n",
       "...           ...   ...             ...\n",
       "8214     Zimbabwe  1994     3965.730986\n",
       "8215     Zimbabwe  1993     3634.750494\n",
       "8216     Zimbabwe  1992     3649.891947\n",
       "8217     Zimbabwe  1991     4126.405247\n",
       "8218     Zimbabwe  1990     4013.299059\n",
       "\n",
       "[8219 rows x 3 columns]"
      ]
     },
     "execution_count": 63,
     "metadata": {},
     "output_type": "execute_result"
    }
   ],
   "source": [
    "GDP_per_Capita"
   ]
  },
  {
   "cell_type": "code",
   "execution_count": 64,
   "id": "76ace4f6-7c36-4b57-829b-ff474179475d",
   "metadata": {},
   "outputs": [],
   "source": [
    "gdp_and_internet_use = pd.merge(GDP_per_Capita,internet_df, on = ['Country','year'])\n"
   ]
  },
  {
   "cell_type": "code",
   "execution_count": 65,
   "id": "85251159-7a19-4ba3-8476-6dd17e547073",
   "metadata": {},
   "outputs": [
    {
     "data": {
      "text/html": [
       "<div>\n",
       "<style scoped>\n",
       "    .dataframe tbody tr th:only-of-type {\n",
       "        vertical-align: middle;\n",
       "    }\n",
       "\n",
       "    .dataframe tbody tr th {\n",
       "        vertical-align: top;\n",
       "    }\n",
       "\n",
       "    .dataframe thead th {\n",
       "        text-align: right;\n",
       "    }\n",
       "</style>\n",
       "<table border=\"1\" class=\"dataframe\">\n",
       "  <thead>\n",
       "    <tr style=\"text-align: right;\">\n",
       "      <th></th>\n",
       "      <th>Country</th>\n",
       "      <th>year</th>\n",
       "      <th>GDP_Per_Capita</th>\n",
       "      <th>Internet_Users_Pct</th>\n",
       "    </tr>\n",
       "  </thead>\n",
       "  <tbody>\n",
       "    <tr>\n",
       "      <th>0</th>\n",
       "      <td>Afghanistan</td>\n",
       "      <td>2019</td>\n",
       "      <td>2927.245144</td>\n",
       "      <td>17.60</td>\n",
       "    </tr>\n",
       "    <tr>\n",
       "      <th>1</th>\n",
       "      <td>Afghanistan</td>\n",
       "      <td>2018</td>\n",
       "      <td>2902.392113</td>\n",
       "      <td>16.80</td>\n",
       "    </tr>\n",
       "    <tr>\n",
       "      <th>2</th>\n",
       "      <td>Afghanistan</td>\n",
       "      <td>2017</td>\n",
       "      <td>2952.998916</td>\n",
       "      <td>13.50</td>\n",
       "    </tr>\n",
       "    <tr>\n",
       "      <th>3</th>\n",
       "      <td>Afghanistan</td>\n",
       "      <td>2016</td>\n",
       "      <td>2958.785399</td>\n",
       "      <td>11.00</td>\n",
       "    </tr>\n",
       "    <tr>\n",
       "      <th>4</th>\n",
       "      <td>Afghanistan</td>\n",
       "      <td>2015</td>\n",
       "      <td>2967.692067</td>\n",
       "      <td>8.26</td>\n",
       "    </tr>\n",
       "  </tbody>\n",
       "</table>\n",
       "</div>"
      ],
      "text/plain": [
       "       Country  year  GDP_Per_Capita  Internet_Users_Pct\n",
       "0  Afghanistan  2019     2927.245144               17.60\n",
       "1  Afghanistan  2018     2902.392113               16.80\n",
       "2  Afghanistan  2017     2952.998916               13.50\n",
       "3  Afghanistan  2016     2958.785399               11.00\n",
       "4  Afghanistan  2015     2967.692067                8.26"
      ]
     },
     "execution_count": 65,
     "metadata": {},
     "output_type": "execute_result"
    }
   ],
   "source": [
    "gdp_and_internet_use.head()"
   ]
  },
  {
   "cell_type": "code",
   "execution_count": 66,
   "id": "bf13140a-bcc5-4cdd-83e4-1bc1e54b2346",
   "metadata": {},
   "outputs": [
    {
     "data": {
      "text/html": [
       "<div>\n",
       "<style scoped>\n",
       "    .dataframe tbody tr th:only-of-type {\n",
       "        vertical-align: middle;\n",
       "    }\n",
       "\n",
       "    .dataframe tbody tr th {\n",
       "        vertical-align: top;\n",
       "    }\n",
       "\n",
       "    .dataframe thead th {\n",
       "        text-align: right;\n",
       "    }\n",
       "</style>\n",
       "<table border=\"1\" class=\"dataframe\">\n",
       "  <thead>\n",
       "    <tr style=\"text-align: right;\">\n",
       "      <th></th>\n",
       "      <th>Country</th>\n",
       "      <th>year</th>\n",
       "      <th>GDP_Per_Capita</th>\n",
       "      <th>Internet_Users_Pct</th>\n",
       "    </tr>\n",
       "  </thead>\n",
       "  <tbody>\n",
       "    <tr>\n",
       "      <th>4798</th>\n",
       "      <td>Zimbabwe</td>\n",
       "      <td>1997</td>\n",
       "      <td>4304.406272</td>\n",
       "      <td>0.033080</td>\n",
       "    </tr>\n",
       "    <tr>\n",
       "      <th>4799</th>\n",
       "      <td>Zimbabwe</td>\n",
       "      <td>1996</td>\n",
       "      <td>4271.479930</td>\n",
       "      <td>0.016790</td>\n",
       "    </tr>\n",
       "    <tr>\n",
       "      <th>4800</th>\n",
       "      <td>Zimbabwe</td>\n",
       "      <td>1995</td>\n",
       "      <td>3935.280057</td>\n",
       "      <td>0.007684</td>\n",
       "    </tr>\n",
       "    <tr>\n",
       "      <th>4801</th>\n",
       "      <td>Zimbabwe</td>\n",
       "      <td>1994</td>\n",
       "      <td>3965.730986</td>\n",
       "      <td>0.001739</td>\n",
       "    </tr>\n",
       "    <tr>\n",
       "      <th>4802</th>\n",
       "      <td>Zimbabwe</td>\n",
       "      <td>1990</td>\n",
       "      <td>4013.299059</td>\n",
       "      <td>0.000000</td>\n",
       "    </tr>\n",
       "  </tbody>\n",
       "</table>\n",
       "</div>"
      ],
      "text/plain": [
       "       Country  year  GDP_Per_Capita  Internet_Users_Pct\n",
       "4798  Zimbabwe  1997     4304.406272            0.033080\n",
       "4799  Zimbabwe  1996     4271.479930            0.016790\n",
       "4800  Zimbabwe  1995     3935.280057            0.007684\n",
       "4801  Zimbabwe  1994     3965.730986            0.001739\n",
       "4802  Zimbabwe  1990     4013.299059            0.000000"
      ]
     },
     "execution_count": 66,
     "metadata": {},
     "output_type": "execute_result"
    }
   ],
   "source": [
    "gdp_and_internet_use.tail()"
   ]
  },
  {
   "cell_type": "markdown",
   "id": "97cca6c4-bb0e-4617-8a95-a7f22794ecc5",
   "metadata": {},
   "source": [
    "### 21. Find the three countries with the highest internet users percentage in 2014. Use a seaborn FacetGrid (https://seaborn.pydata.org/generated/seaborn.FacetGrid.html) to compare how the GDP per capita has changed over time for these three countries. What do you notice?"
   ]
  },
  {
   "cell_type": "code",
   "execution_count": 72,
   "id": "4f299cbc-80f0-4c91-8e5a-286abd5d1949",
   "metadata": {},
   "outputs": [
    {
     "data": {
      "text/plain": [
       "2592                        Iceland\n",
       "1893    Falkland (Malvinas) Islands\n",
       "602                         Bermuda\n",
       "Name: Country, dtype: object"
      ]
     },
     "execution_count": 72,
     "metadata": {},
     "output_type": "execute_result"
    }
   ],
   "source": [
    "top_3 = year_2014.sort_values(by ='Internet_Users_Pct',ascending =False).Country.head(3)\n"
   ]
  },
  {
   "cell_type": "code",
   "execution_count": 74,
   "id": "8b230942-f439-43c0-931b-3f3de6bb82cb",
   "metadata": {},
   "outputs": [],
   "source": [
    "top_3_gdp = gdp_and_internet_use.loc[gdp_and_internet_use.Country.isin(top_3)]"
   ]
  },
  {
   "cell_type": "code",
   "execution_count": 91,
   "id": "97d5770e-e978-4d9b-bbfa-86a30ccc2f52",
   "metadata": {},
   "outputs": [
    {
     "data": {
      "image/png": "[encoded data removed]",
      "text/plain": [
       "<Figure size 600x300 with 2 Axes>"
      ]
     },
     "metadata": {},
     "output_type": "display_data"
    }
   ],
   "source": [
    "g =sns.FacetGrid(top_3_gdp ,col = 'Country' )\n",
    "g.map(sns.lineplot, \"year\", \"GDP_Per_Capita\");\n",
    "plt.ylim(bottom =0);"
   ]
  },
  {
   "cell_type": "markdown",
   "id": "351e4ae9-2e36-4678-bea2-ca8e06be5d3e",
   "metadata": {},
   "source": [
    "#### 22. Subset `gdp_and_internet_use` to just the year 2014. Save this as a new dataframe named `gdp_and_internet_use_2014`."
   ]
  },
  {
   "cell_type": "code",
   "execution_count": 84,
   "id": "b52b3d34-7701-4742-afcd-4a4e3f72fc56",
   "metadata": {},
   "outputs": [
    {
     "data": {
      "text/html": [
       "<div>\n",
       "<style scoped>\n",
       "    .dataframe tbody tr th:only-of-type {\n",
       "        vertical-align: middle;\n",
       "    }\n",
       "\n",
       "    .dataframe tbody tr th {\n",
       "        vertical-align: top;\n",
       "    }\n",
       "\n",
       "    .dataframe thead th {\n",
       "        text-align: right;\n",
       "    }\n",
       "</style>\n",
       "<table border=\"1\" class=\"dataframe\">\n",
       "  <thead>\n",
       "    <tr style=\"text-align: right;\">\n",
       "      <th></th>\n",
       "      <th>Country</th>\n",
       "      <th>year</th>\n",
       "      <th>GDP_Per_Capita</th>\n",
       "      <th>Internet_Users_Pct</th>\n",
       "    </tr>\n",
       "  </thead>\n",
       "  <tbody>\n",
       "    <tr>\n",
       "      <th>5</th>\n",
       "      <td>Afghanistan</td>\n",
       "      <td>2014</td>\n",
       "      <td>3017.942544</td>\n",
       "      <td>7.0000</td>\n",
       "    </tr>\n",
       "    <tr>\n",
       "      <th>27</th>\n",
       "      <td>Albania</td>\n",
       "      <td>2014</td>\n",
       "      <td>12788.747231</td>\n",
       "      <td>54.3000</td>\n",
       "    </tr>\n",
       "    <tr>\n",
       "      <th>56</th>\n",
       "      <td>Algeria</td>\n",
       "      <td>2014</td>\n",
       "      <td>15073.762940</td>\n",
       "      <td>29.5000</td>\n",
       "    </tr>\n",
       "    <tr>\n",
       "      <th>85</th>\n",
       "      <td>Andorra</td>\n",
       "      <td>2014</td>\n",
       "      <td>59929.244467</td>\n",
       "      <td>86.1000</td>\n",
       "    </tr>\n",
       "    <tr>\n",
       "      <th>112</th>\n",
       "      <td>Angola</td>\n",
       "      <td>2014</td>\n",
       "      <td>10250.592404</td>\n",
       "      <td>21.3623</td>\n",
       "    </tr>\n",
       "  </tbody>\n",
       "</table>\n",
       "</div>"
      ],
      "text/plain": [
       "         Country  year  GDP_Per_Capita  Internet_Users_Pct\n",
       "5    Afghanistan  2014     3017.942544              7.0000\n",
       "27       Albania  2014    12788.747231             54.3000\n",
       "56       Algeria  2014    15073.762940             29.5000\n",
       "85       Andorra  2014    59929.244467             86.1000\n",
       "112       Angola  2014    10250.592404             21.3623"
      ]
     },
     "execution_count": 84,
     "metadata": {},
     "output_type": "execute_result"
    }
   ],
   "source": [
    "gdp_and_internet_use_2014 =  gdp_and_internet_use.loc[gdp_and_internet_use.year == 2014]\n",
    "gdp_and_internet_use_2014.head()\n"
   ]
  },
  {
   "cell_type": "markdown",
   "id": "86c08c63-ddff-4d15-b39b-2916bd3ce7a5",
   "metadata": {},
   "source": [
    "#### 23. Create a plot which compares Internet Users Percentage and GDP per Capita for the year 2014. What do you notice from this plot? If you see any unusual points, investigate them."
   ]
  },
  {
   "cell_type": "code",
   "execution_count": 93,
   "id": "85a3bbb1-cdd3-428d-b6b1-9bbbe5bd3b69",
   "metadata": {},
   "outputs": [
    {
     "data": {
      "text/plain": [
       "<Axes: xlabel='GDP_Per_Capita', ylabel='Internet_Users_Pct'>"
      ]
     },
     "execution_count": 93,
     "metadata": {},
     "output_type": "execute_result"
    },
    {
     "data": {
      "image/png": "[encoded data removed]",
      "text/plain": [
       "<Figure size 640x480 with 1 Axes>"
      ]
     },
     "metadata": {},
     "output_type": "display_data"
    }
   ],
   "source": [
    "sns.scatterplot(data = gdp_and_internet_use_2014,x= 'GDP_Per_Capita',y = 'Internet_Users_Pct')"
   ]
  },
  {
   "cell_type": "markdown",
   "id": "a25ea83f-e929-4e62-9eca-6547eb225156",
   "metadata": {},
   "source": [
    "#### its increasing then flating around 100 %.definitly there are related."
   ]
  },
  {
   "cell_type": "markdown",
   "id": "9af76143-6842-4176-9125-1f51b3195546",
   "metadata": {},
   "source": [
    "#### 24. **Stretch Question:** Use the `qcut` function from pandas (https://pandas.pydata.org/docs/reference/api/pandas.qcut.html) to divide countries in `gdp_per_capita_2014` into three groups based on their GDP per capita values. Label these groups as \"Low\", \"Medium\", and \"High\". Put these labels in a new column, named \"GDP_group\"."
   ]
  },
  {
   "cell_type": "code",
   "execution_count": 100,
   "id": "ae2c7276-cbc7-4fbe-849d-67330d0db0d5",
   "metadata": {},
   "outputs": [
    {
     "data": {
      "text/html": [
       "<div>\n",
       "<style scoped>\n",
       "    .dataframe tbody tr th:only-of-type {\n",
       "        vertical-align: middle;\n",
       "    }\n",
       "\n",
       "    .dataframe tbody tr th {\n",
       "        vertical-align: top;\n",
       "    }\n",
       "\n",
       "    .dataframe thead th {\n",
       "        text-align: right;\n",
       "    }\n",
       "</style>\n",
       "<table border=\"1\" class=\"dataframe\">\n",
       "  <thead>\n",
       "    <tr style=\"text-align: right;\">\n",
       "      <th></th>\n",
       "      <th>Country</th>\n",
       "      <th>year</th>\n",
       "      <th>GDP_Per_Capita</th>\n",
       "    </tr>\n",
       "  </thead>\n",
       "  <tbody>\n",
       "    <tr>\n",
       "      <th>9</th>\n",
       "      <td>Afghanistan</td>\n",
       "      <td>2014</td>\n",
       "      <td>3017.942544</td>\n",
       "    </tr>\n",
       "    <tr>\n",
       "      <th>33</th>\n",
       "      <td>Africa Eastern and Southern</td>\n",
       "      <td>2014</td>\n",
       "      <td>4052.851526</td>\n",
       "    </tr>\n",
       "    <tr>\n",
       "      <th>67</th>\n",
       "      <td>Africa Western and Central</td>\n",
       "      <td>2014</td>\n",
       "      <td>4816.917355</td>\n",
       "    </tr>\n",
       "    <tr>\n",
       "      <th>101</th>\n",
       "      <td>Albania</td>\n",
       "      <td>2014</td>\n",
       "      <td>12788.747231</td>\n",
       "    </tr>\n",
       "    <tr>\n",
       "      <th>135</th>\n",
       "      <td>Algeria</td>\n",
       "      <td>2014</td>\n",
       "      <td>15073.762940</td>\n",
       "    </tr>\n",
       "  </tbody>\n",
       "</table>\n",
       "</div>"
      ],
      "text/plain": [
       "                         Country  year  GDP_Per_Capita\n",
       "9                    Afghanistan  2014     3017.942544\n",
       "33   Africa Eastern and Southern  2014     4052.851526\n",
       "67    Africa Western and Central  2014     4816.917355\n",
       "101                      Albania  2014    12788.747231\n",
       "135                      Algeria  2014    15073.762940"
      ]
     },
     "execution_count": 100,
     "metadata": {},
     "output_type": "execute_result"
    }
   ],
   "source": [
    "gdp_per_capita_2014 = GDP_per_Capita.loc[GDP_per_Capita.year == 2014]\n",
    "gdp_per_capita_2014.head()"
   ]
  },
  {
   "cell_type": "code",
   "execution_count": 109,
   "id": "403b046f-babd-45e7-8bb6-361b846b872d",
   "metadata": {},
   "outputs": [
    {
     "data": {
      "text/plain": [
       "9       low\n",
       "33      low\n",
       "67      low\n",
       "101     low\n",
       "135     low\n",
       "       ... \n",
       "8074    low\n",
       "8096    low\n",
       "8126    low\n",
       "8160    low\n",
       "8194    low\n",
       "Name: GDP_Per_Capita, Length: 247, dtype: category\n",
       "Categories (3, object): ['low' < 'medium' < 'high']"
      ]
     },
     "execution_count": 109,
     "metadata": {},
     "output_type": "execute_result"
    }
   ],
   "source": [
    "pd.cut(gdp_per_capita_2014.GDP_Per_Capita,bins = 3,labels=['low', 'medium', 'high'])"
   ]
  },
  {
   "cell_type": "code",
   "execution_count": null,
   "id": "d77b8a12-12ba-4fc0-9d21-66da9ca9826a",
   "metadata": {},
   "outputs": [],
   "source": []
  }
 ],
 "metadata": {
  "kernelspec": {
   "display_name": "Python 3 (ipykernel)",
   "language": "python",
   "name": "python3"
  },
  "language_info": {
   "codemirror_mode": {
    "name": "ipython",
    "version": 3
   },
   "file_extension": ".py",
   "mimetype": "text/x-python",
   "name": "python",
   "nbconvert_exporter": "python",
   "pygments_lexer": "ipython3",
   "version": "3.13.5"
  }
 },
 "nbformat": 4,
 "nbformat_minor": 5
}
